{
 "cells": [
  {
   "cell_type": "markdown",
   "id": "7d19ae13-c6eb-40f4-b507-e82ff56c2c09",
   "metadata": {
    "tags": []
   },
   "source": [
    "## 1. Grafieken interpreteren met Python"
   ]
  },
  {
   "cell_type": "markdown",
   "id": "6dcc01ca-dd62-4c32-ac8b-c299d848ddfc",
   "metadata": {},
   "source": [
    "### Week 1"
   ]
  },
  {
   "cell_type": "markdown",
   "id": "5eb1d34b-1a9e-4a1c-962e-ac9c0269fba0",
   "metadata": {},
   "source": [
    "# Projectielbeweging: Extra oefening\n",
    "## Opgave\n",
    "Een motorcrosser rijdt over een schans en maakt een sprong. Het ontwerp van de\n",
    "schans legt de parameters $h_s$ en $\\theta_s$ vast, de motorcrosser zelf bepaalt de snelheid $v_m$\n",
    "waarmee hij aan de sprong start. Aan het einde van de sprong landt de motorcrosser\n",
    "terug op op dezelfde hoogte als het beginpunt van de schans ($h=0m$).\n",
    "\n",
    "<img title=\"projectielbeweging opgave\" alt=\"projectielbeweging opgave\" style=\"margin-left: 0px;margin-right: auto;width: 900px;\" src=\"./assets/projectielbeweging_opgave.png\">\n",
    "\n",
    "In kwartiel 1 heb je een model gemaakt waarmee je de afstand $R$ van de sprong uitdrukt in functie van de\n",
    "parameters $h_s$, $\\theta_s$ en $v_m$.<br>\n",
    "*Hiervoor heb je de parameter tijd geëlimineerd uit de vergelijkingen, want in dit model is de\n",
    "tijd niet gevraagd*\n",
    "\n",
    "Nu zullen we dit model verder onderzoeken en de invloed van de\n",
    "verschillende parameters in grafieken plotten. Daarvoor herschrijven we het model in\n",
    "een expliciete vorm:\n",
    "\n",
    "$$ R = v_m cos(\\theta_s)\\left(\\dfrac{v_m sin(\\theta_s)+\\sqrt{v^2_m(sin(\\theta_s))^2+2gh_s}}{g}\\right)\\tag{1}$$"
   ]
  },
  {
   "cell_type": "markdown",
   "id": "762fc9ae-729f-483d-9e5f-c3340902f644",
   "metadata": {},
   "source": [
    "### Grafieken interpreteren\n",
    "Run het volgende codeblok om 2 grafieken te plotten. De grafieken geven beide het traject van een projectiel weer voor een initiële snelheid $v_m = 20 m/s$, een hoogte van de schans $h_s = 4m$ en een hoek van de schans $\\theta = \\pi/3 = 60^{\\circ}$ \n",
    "\n",
    "**Opdracht 1:**\n",
    "Slechts 1 grafiek geeft echter de beste representatie van de werkelijkheid. \n",
    "\n",
    "<mark>TODO: Run onderstaande codeblok en duid aan welke grafiek het best de werkelijkheid benadert en type in het volgende blok waarom je voor die grafiek gekozen hebt.</mark>"
   ]
  },
  {
   "cell_type": "code",
   "execution_count": null,
   "id": "66a1b828-da85-48c1-a227-5053619742b3",
   "metadata": {},
   "outputs": [],
   "source": [
    "%matplotlib inline\n",
    "import numpy as np\n",
    "import math\n",
    "from matplotlib import pyplot as plt\n",
    "from plotFuncties import *\n",
    "from knipFuncties import *\n",
    "import ipywidgets \n",
    "\n",
    "vm1=20  # m/s  snelheid motocrosser\n",
    "hs1=4 # m  hoogte schans\n",
    "theta1 = np.pi / 3 # rad hoek schans\n",
    "\n",
    "def berekenHoogteVersie1(x, x0, y0, vx0, vy0):\n",
    "    t = (x - x0)/vx0\n",
    "    y = y0+vy0*t-0.5*9.81*t**2\n",
    "    return y\n",
    "\n",
    "def berekenHoogteVersie2(x, x0, y0, vx0, vy0):\n",
    "    t = (x - x0)/vx0\n",
    "    y = max(0, y0+vy0*t-0.5*9.81*t**2)\n",
    "    return y\n",
    "\n",
    "%run ./assets/projectielbeweging_opdracht1.ipynb\n",
    "opdracht1Vraag"
   ]
  },
  {
   "cell_type": "raw",
   "id": "a7515d46-2677-4daa-a736-b18bf33ea169",
   "metadata": {},
   "source": [
    "TODO: Type hieronder waarom je voor deze grafiek gekozen hebt.\n",
    "- Antwoord: \n",
    "\n"
   ]
  },
  {
   "cell_type": "markdown",
   "id": "9de21463-851b-4e19-a2b0-8d59c9aa87d3",
   "metadata": {},
   "source": [
    "**Bekijk het codeblok goed dat de grafieken heeft getekend. Voor de ene grafiek werd de functie `berekenHoogteVersie1` gebruikt en voor de andere grafiek werd de functie `berekenHoogteVersie2` gebruikt.**<br><br>\n",
    "<mark>TODO: RUN onderstaande codeblok en link de juiste functie aan de juiste grafiek!</mark>"
   ]
  },
  {
   "cell_type": "code",
   "execution_count": null,
   "id": "46f619f4-f7e6-4ec1-aaf9-97ae3b2baacb",
   "metadata": {},
   "outputs": [],
   "source": [
    "%run ./assets/projectielbeweging_opdracht1_2.ipynb\n",
    "from ipywidgets import VBox\n",
    "display(VBox([opdracht1Vraag2_1,opdracht1Vraag2_2]))"
   ]
  },
  {
   "cell_type": "markdown",
   "id": "02b92cb4-fda6-4693-a8fd-d36706c11fdd",
   "metadata": {},
   "source": [
    "<mark>TODO: Run het volgende codeblok om na te gaan of je de juiste keuzes gemaakt hebt.<mark>"
   ]
  },
  {
   "cell_type": "code",
   "execution_count": null,
   "id": "9c0ccbea-7177-4b9e-b192-c32165ebd4ab",
   "metadata": {},
   "outputs": [],
   "source": [
    "%run ./assets/projectielbeweging_opdracht1assert.ipynb"
   ]
  },
  {
   "cell_type": "markdown",
   "id": "3cfaecf6-6b09-4eb2-8ba7-01285d2876e8",
   "metadata": {},
   "source": [
    "**Opdracht 1 deel 2:** \n",
    "Je kan de geweste output van $h > 0$ m ook bekomen door op de het domein van de grafiek te beperken tot het moment het projectiel de grond raakt.\n",
    "\n",
    "<mark>TODO: Vervolledig de code hieronder door gebruik te maken van de juiste `knipfunctie` (uit de file/library `knipFuncties.py`)  om de projectielbeweging te plotten totdat het projectiel de grond raakt. Run je code om te kijken of je de juiste keuze gemaakt hebt.<mark>\n",
    "\n",
    "*Je kan de file `knipFuncties.py` openen en bekijken door op het bestand te dubbelklikken in het bestanden overview aan de linkerkant (zie handleiding)*"
   ]
  },
  {
   "cell_type": "code",
   "execution_count": null,
   "id": "06054e19-a9a7-48f2-8f74-5ab49090440f",
   "metadata": {},
   "outputs": [],
   "source": [
    "def berekenHoogteNoGround(x, x0, y0, vx0, vy0):\n",
    "    t = (x - x0)/vx0\n",
    "    y = y0+vy0*t-0.5*9.81*t**2\n",
    "    return y\n",
    "\n",
    "def plotProjectielBeweging2(x0,y0,vx0,vy0,xMax, naamF=\"beweging van een projectiel\", kleur='k', nieuwePlot=True):\n",
    "       \n",
    "    def berekenPos(x):\n",
    "        return berekenHoogteNoGround(x, x0, y0, vx0, vy0)\n",
    "    \n",
    "    ##############################################################################\n",
    "    ##########     SCHRIJF ENKEL CODE HIERONDER     ##############################\n",
    "    ##############################################################################\n",
    "    \n",
    "    # TODO: Bepaal de nieuwe xMax door gebruik te maken van de juiste knipFunctie!\n",
    "    xMax_new = 0 #TODO\n",
    "    \n",
    "    ##############################################################################\n",
    "    ##########     SCHRIJF ENKEL CODE HIERBOVEN     ##############################\n",
    "    ##############################################################################\n",
    "    \n",
    "    xs=np.linspace(0,xMax_new,250)\n",
    "    \n",
    "    plotFunctie(berekenPos, naamF, xs, \"x (m)\", label=True, kleur=kleur, nieuwePlot=nieuwePlot)\n",
    "    plt.ylabel('y (m)')\n",
    "    \n",
    "    # Test if the students result is plausible enough\n",
    "    return (berekenPos(xs[-1]) < 0.5 and berekenPos(xs[-1]) > -0.5)\n",
    "\n",
    "def voorbeeldProjectiel2(naamF=\"beweging van een projectiel\"):\n",
    "    x0 = 0\n",
    "    vx0 = vm1 * math.cos(theta1)\n",
    "    vy0 = vm1 * math.sin(theta1)\n",
    "    tMax = 5\n",
    "    xMax = x0+vx0*tMax\n",
    "    totest = plotProjectielBeweging2(x0,hs1,vx0,vy0,xMax,naamF)\n",
    "    plt.show()\n",
    "    return totest\n",
    "    \n",
    "opdracht1deel2toassert = voorbeeldProjectiel2()\n",
    "\n",
    "# Give feedback to student based on their solution\n",
    "%run ./assets/projectielbeweging_opdracht1deel2assert.ipynb"
   ]
  },
  {
   "cell_type": "markdown",
   "id": "e4022cee-e803-42ca-98f3-6b6083c78b95",
   "metadata": {},
   "source": [
    "**Opdracht 2**: De functie `varieerSnelheid(v)` is gegeven. Deze  berekent de springafstand $R$ voor één waarde van de snelheid $v$. Deze functie wordt gebruikt door de functie `plotBereikVersusSnelheid` die dan een grafiek plot van de springafstand R voor verschillende snelheden $v$.\n",
    "\n",
    "<mark>TODO: Bestudeer de vier grafieken hieronder. Run daarna het onderstaande code blok en duid aan welke grafiek het beste de relatie van $R$ i.f.v. $v$ voorsteld.</mark>\n",
    "\n",
    "$$ R = v_m cos(\\theta_s)\\left(\\dfrac{v_m sin(\\theta_s)+\\sqrt{v^2_m(sin(\\theta_s))^2+2gh_s}}{g}\\right)\\tag{1}$$"
   ]
  },
  {
   "cell_type": "markdown",
   "id": "ac1ebab8-f0dc-4bb9-be15-fd2887145585",
   "metadata": {},
   "source": [
    "| Grafiek 1             |  Grafiek 2 |\n",
    ":-------------------------:|:-------------------------:\n",
    "<img title=\"projectielbeweging_opdracht2graf1\" alt=\"projectielbeweging_opdracht2graf1\" style=\"width:  90%;\" src=\"./assets/projectielbeweging_opdracht2graf1.png\">  |  <img title=\"projectielbeweging_opdracht2graf2\" alt=\"projectielbeweging_opdracht2graf2\" style=\"width:  90%;\" src=\"./assets/projectielbeweging_opdracht2graf2.png\">\n",
    "\n",
    "| Grafiek 3            |  Grafiek 4 |\n",
    ":-------------------------:|:-------------------------:\n",
    "<img title=\"projectielbeweging_opdracht2graf3\" alt=\"projectielbeweging_opdracht2graf3\" style=\"margin-left: 0px;margin-right: auto;width: 90%;\" src=\"./assets/projectielbeweging_opdracht2graf3.png\">  |  <img title=\"projectielbeweging_opdracht2graf4\" alt=\"projectielbeweging_opdracht2graf4\" style=\"margin-left: 0px;margin-right: auto;width: 90%;\" src=\"./assets/projectielbeweging_opdracht2graf4.png\">"
   ]
  },
  {
   "cell_type": "code",
   "execution_count": null,
   "id": "61355a9d-f70d-4c52-86db-48e66d1fc90e",
   "metadata": {},
   "outputs": [],
   "source": [
    "%run ./assets/projectielbeweging_opdracht2_1.ipynb\n",
    "display(opdracht2_1vraag)\n",
    "display(Markdown(\"<br><mark>TODO: Run het volgende codeblok om de correcte grafiek te plotten.<br>Vergelijk met je keuze en duid aan of je de juiste keuze gemaakt hebt:</mark>\"))"
   ]
  },
  {
   "cell_type": "code",
   "execution_count": null,
   "id": "6a1aeb0f-1b5f-4831-ae25-aa7e0f42441d",
   "metadata": {},
   "outputs": [],
   "source": [
    "# R in functie van snelheid vm\n",
    "def varieerSnelheid(v):\n",
    "    theta1 = np.pi / 3\n",
    "    R=(v*math.cos(theta1)/9.81)*(v*math.sin(theta1)+np.sqrt((v*math.sin(theta1))**2+2*9.81*hs1))\n",
    "    return R\n",
    "\n",
    "def plotBereikVersusSnelheid():\n",
    "    vlijst=np.linspace(0,vm1)\n",
    "    plotFunctie(varieerSnelheid, 'bereik R (m)', vlijst, 'snelheid (m/s)', titel = \"Bereik R in functie van snelheid vm\", kleur='b', nieuwePlot = True, label = False)\n",
    "    plt.show()\n",
    "    \n",
    "plotBereikVersusSnelheid()\n",
    "    \n",
    "    \n",
    "    \n",
    "# De code hieronder mag je negeren\n",
    "%run ./assets/projectielbeweging_opdracht2_2.ipynb\n",
    "display(opdracht2_2vraag)\n",
    "display(Markdown(\"<br><mark>TODO: Run het volgende codeblok om je oplossing na te kijken en feedback te krijgen.</mark>\"))"
   ]
  },
  {
   "cell_type": "code",
   "execution_count": null,
   "id": "2506c05e-246b-4e07-945f-2cccada41240",
   "metadata": {},
   "outputs": [],
   "source": [
    "%run ./assets/projectielbeweging_opdracht2deel1assert.ipynb"
   ]
  },
  {
   "cell_type": "markdown",
   "id": "5906619b-1ed5-41e9-8e84-c2e0575b41d9",
   "metadata": {},
   "source": [
    "<br><br><mark>TODO: Implementeer de functies die een gelijkaardige figuur maken met de invloed van de **hoek** $\\theta_s$ (0 tot $\\pi/2$ radialen) op de springafstand $R$.</mark>"
   ]
  },
  {
   "cell_type": "code",
   "execution_count": null,
   "id": "b1dbf6b1-0e46-4fd0-8003-9a4ea30a846f",
   "metadata": {},
   "outputs": [],
   "source": [
    "# TODO Implementeer de functies die een gelijkaardige figuur maken met de invloed van de hoek op de springafstand.\n",
    "\n",
    "\n",
    "\n",
    "\n",
    "\n"
   ]
  },
  {
   "cell_type": "markdown",
   "id": "cf0ebf74-63d8-4331-b707-0e9404ae098f",
   "metadata": {},
   "source": [
    "<mark>TODO: Run onderstaande codeblok om na te gaan of je de juiste grafiek geplot hebt. Je grafiek zou er identiek moeten uitzien</mark>"
   ]
  },
  {
   "cell_type": "code",
   "execution_count": null,
   "id": "c76d09fe-8166-4cb7-86a8-bf112672568e",
   "metadata": {},
   "outputs": [],
   "source": [
    "%run ./assets/projectielbeweging_opdracht2_1assert.ipynb"
   ]
  },
  {
   "cell_type": "markdown",
   "id": "0bcbc628-00f5-4572-8050-5f12738a92b7",
   "metadata": {},
   "source": [
    "<mark>TODO: Run onderstaande codeblok om ten slotte de grafiek te plotten met de invloed van **de hoogte van de schans** $h_s$ op de springafstand $R$. Beschrijf daarna weer in het textblok eronder welke relatie er bestaat tussen de $R$ en $h$. (liniear - kwadratisch - logaritmisch - geen van voorgaande) </mark>"
   ]
  },
  {
   "cell_type": "code",
   "execution_count": null,
   "id": "4ee5f052-2b67-4cb6-b87e-af298345c510",
   "metadata": {},
   "outputs": [],
   "source": [
    "%run ./assets/projectielbeweging_opdracht2_2assert.ipynb\n",
    "display(opdracht2_2liniearVraag)\n",
    "display(Markdown(\"<br><mark>TODO: Run het volgende codeblok om je oplossing na te kijken en feedback te krijgen.</mark>\"))"
   ]
  },
  {
   "cell_type": "code",
   "execution_count": null,
   "id": "0e36f48e-28ab-4e1c-95c3-d9b88f47f49f",
   "metadata": {},
   "outputs": [],
   "source": [
    "%run ./assets/projectielbeweging_opdracht2_2assert2.ipynb\n",
    "\n"
   ]
  },
  {
   "cell_type": "markdown",
   "id": "41375509-cbe8-449f-b682-4595799928bc",
   "metadata": {},
   "source": [
    "**Opdracht 2 extra:** Een parameter die we voorlopig altijd gelijk genomen hebben heeft echter ook nog een belangrijk effect op de afstand $R$ en dat is de valversnelling $g$. Voorlopig zijn we steeds uitgegaan van een valversnelling $g = 9,81m/s^2$. Dit is een waarde die vaak gebruikt wordt als de valversnelling op Aarde. Echter op andere planeten en op de Aarde zelf kan deze waarde variëren! Op de Aarde kan $g$ variëren van $9,780 m/s^2$(Evenaar) tot $9,832 m/s^2$ (aan de Polen).\n",
    "\n",
    "<mark>TODO: Run het volgende codeblok om de afstand te plotten voor die verschillende waarden van de valversnelling. Met de slider kan je `g_min` en `g_max` aanpassen.<br>Experimenteer met de slider en bekijk wat er gebeurt met de grafiek.<br><br> - Beschrijf in het textblok onder de plot meer specifiek wat er gebeurt bij $g = 0 m/s^2$.<br> - Kan je dit fysisch verklaren?<mark>"
   ]
  },
  {
   "cell_type": "code",
   "execution_count": null,
   "id": "f62e74bf-c812-4522-af5c-1952fa9ca9f1",
   "metadata": {},
   "outputs": [],
   "source": [
    "%run ./assets/projectielbeweging_opdracht2_extraAssert.ipynb"
   ]
  },
  {
   "cell_type": "raw",
   "id": "cda0a2b6-a158-46a9-a8fb-ceffb1c32dba",
   "metadata": {},
   "source": [
    "TODO: Wat gebeurt er bij g = 0m/s^2?\n",
    "- Antwoord: \n",
    "\n",
    "TODO: Verklaar fysisch.\n",
    "- Antwoord: \n"
   ]
  },
  {
   "cell_type": "markdown",
   "id": "be39d854-f9bd-4385-9421-d1c944537e19",
   "metadata": {},
   "source": [
    "**Opdracht 3.1**: Toon de invloed van een parameter op een andere manier: plot het traject van de motocrosser voor verschillende waardes van de parameter.<br>\n",
    "De functie `plotSnelheden()` toont het traject van de motocrosser voor een vaste snelheid van 20 m/s en een tweede traject voor een motocrosser wiens snelheid m.b.v. de slider aangepast kan worden.\n",
    "\n",
    "<mark>TODO: Run onderstaande codeblok en experimenteer met de verschillende snelheden. Vul in het textblok eronder in welke invloed de snelheid heeft op het traject.</mark>"
   ]
  },
  {
   "cell_type": "code",
   "execution_count": null,
   "id": "db43a8ae-76f3-4041-825a-9296b16db084",
   "metadata": {},
   "outputs": [],
   "source": [
    "def plotVerschillendeSnelheden(v):\n",
    "    xMax = 75\n",
    "    plotProjectielBeweging(0, hs1, vm1 * math.cos(theta1), vm1 * math.sin(theta1), xMax, naamF=\"v = 20 m/s\", kleur = 'r')\n",
    "    plotProjectielBeweging(0, hs1, v * math.cos(theta1), v * math.sin(theta1), xMax, naamF=\"v = \"+str(v)+\" m/s\", kleur = 'g', nieuwePlot = False)\n",
    "    plt.title(\"Beweging van het projectiel met verschillende snelheden\")\n",
    "    plt.show()\n",
    "\n",
    "ipywidgets.interact(plotVerschillendeSnelheden, v=ipywidgets.FloatSlider(value=15, min=0, max=30,step=1,description=\"v (m/s)\"))"
   ]
  },
  {
   "cell_type": "raw",
   "id": "b262f7ea-13c8-49df-809d-0ee92040d173",
   "metadata": {},
   "source": [
    "TODO: Wat is de invloed van v op het traject?\n",
    "- Antwoord: \n",
    "\n"
   ]
  },
  {
   "cell_type": "markdown",
   "id": "a630647c-3673-48f6-af22-2215a8ef8552",
   "metadata": {},
   "source": [
    "**Opdracht 3 verder**: Run onderstaande codeblok die het traject toont voor verschillende waardes van …\n",
    "1. … **de hoogte van de schans** $h_s$. Bekijk het resultaat kritisch.\n",
    "2. … **de hoek** $\\theta_s$. Bekijk het resultaat kritisch.\n",
    "\n",
    "<mark>TODO: Run onderstaande codeblokken en experimenteer met de verschillende waarden voor de hoogte/hoek. Vul in het textblok steeds in welke invloed de hoogte/hoek heeft op het traject.</mark>"
   ]
  },
  {
   "cell_type": "code",
   "execution_count": null,
   "id": "a39f6c2f-570a-4533-95a9-c6fcc9a2d64a",
   "metadata": {},
   "outputs": [],
   "source": [
    "\n",
    "def plotVerschillendeHoogtes(h):\n",
    "    xMax = 75\n",
    "    plotProjectielBeweging(0, hs1, vm1 * math.cos(theta1), vm1 * math.sin(theta1), xMax, naamF=\"h = 4 m\", kleur = 'r')\n",
    "    plotProjectielBeweging(0, h, vm1 * math.cos(theta1), vm1 * math.sin(theta1), xMax, naamF=\"h = \"+str(h)+\" m\", kleur = 'g', nieuwePlot = False)\n",
    "    plt.title(\"Beweging van het projectiel met verschillende hoogtes\")\n",
    "    plt.show()\n",
    "\n",
    "ipywidgets.interact(plotVerschillendeHoogtes, h=ipywidgets.FloatSlider(value=4, min=0, max=30,step=0.5,description=\"h (m)\"))"
   ]
  },
  {
   "cell_type": "raw",
   "id": "677f5b30-2269-4343-8dd8-035b47d011ce",
   "metadata": {},
   "source": [
    "TODO: Wat is de invloed van h op het traject?\n",
    "- Antwoord:\n",
    "\n",
    "\n"
   ]
  },
  {
   "cell_type": "code",
   "execution_count": null,
   "id": "e5a5bae5-a754-4491-8250-17b37ed68892",
   "metadata": {},
   "outputs": [],
   "source": [
    "def plotVerschillendeHoeken(theta):\n",
    "    xMax = 75\n",
    "    plotProjectielBeweging(0, hs1, vm1 * math.cos(theta1), vm1 * math.sin(theta1), xMax, naamF=\"60°\", kleur = 'r')\n",
    "    plotProjectielBeweging(0, hs1, vm1 * math.cos(theta), vm1 * math.sin(theta), xMax, naamF=str(round(theta/np.pi*180,2))+\"°\", kleur = 'g', nieuwePlot = False)\n",
    "    plt.title(\"Beweging van het projectiel met verschillende hoeken\")\n",
    "    plt.show()\n",
    "\n",
    "ipywidgets.interact(plotVerschillendeHoeken, theta=ipywidgets.FloatSlider(value=np.pi/3, min=0, max=np.pi/2+np.pi/100,step=np.pi/100,description=\"𝜃 (rad)\"))\n"
   ]
  },
  {
   "cell_type": "raw",
   "id": "278c5ebf-2756-409b-9126-fbacd8bd02dd",
   "metadata": {},
   "source": [
    "TODO: Wat is de invloed van 𝜃 op het traject?\n",
    "- Antwoord:\n",
    "   \n",
    "   \n"
   ]
  },
  {
   "cell_type": "markdown",
   "id": "cb158e18-a4ee-46d4-992e-98b479b1d38d",
   "metadata": {},
   "source": [
    "***Merk op dat de totale afstand dat de motocrosser springt niet blijft stijgen bij het groter worden van de hoek. Er is dus een <u>ideale</u> hoek te vinden waarvoor de springafstand maximaal is!***\n",
    "\n",
    "\n",
    "<mark>TODO: Gebruik de plot en slider van hierboven om de hoek te vinden (in rad) waarvoor R maximaal is. Kijk na in de onderste grafiek of die waarde overeenkomt met de x_waarde voor het lokaal maximum.</mark>\n",
    "\n",
    "<img title=\"projectielbeweging opgave\" alt=\"projectielbeweging opgave\" style=\"margin-left: 0px;margin-right: auto;width: 400px;\" src=\"./assets/projectielbeweging_RifvHoek.png\">"
   ]
  },
  {
   "cell_type": "markdown",
   "id": "87ad4e59-b3da-48ca-9c62-06c2b38d2518",
   "metadata": {},
   "source": [
    "**Opdracht 4**: Volgende codeblok plot 2 grafieken waarvan je de parameters kan instellen bekijk hire vooral naar de invloed die de parameter $g$ heeft op het traject. (Je kan de waarde van $g$ voor op Aarde, $9,81m/s^2$, of op de Maan, $1,62m/s^2$ instellen)\n",
    "\n",
    "<mark>TODO: Run onderstaande codeblok en experimenteer met onderstaande grafieken<mark>"
   ]
  },
  {
   "cell_type": "code",
   "execution_count": null,
   "id": "c7f8e564-70dc-4f04-bc08-01045d7d06e2",
   "metadata": {},
   "outputs": [],
   "source": [
    "%run ./assets/projectielbeweging_opdracht4_assert.ipynb"
   ]
  },
  {
   "cell_type": "raw",
   "id": "98b0862c-c0a7-4f2a-93d8-88206512dae0",
   "metadata": {},
   "source": []
  },
  {
   "cell_type": "markdown",
   "id": "8383e6e1-b4e3-45ca-977e-460dc8b2e0f8",
   "metadata": {},
   "source": [
    "### Heb je ergens een fout gemaakt en wil je de file resetten? \n",
    "Run dan het codeblok hieronder, vul in het tekstvak `IKBENZEKER` in en klik dan op ok."
   ]
  },
  {
   "cell_type": "code",
   "execution_count": null,
   "id": "c0fd9bb5-4b13-47ae-8fdd-ee8f057377f7",
   "metadata": {},
   "outputs": [],
   "source": [
    "%run assets/projectielbeweging_reset.ipynb\n",
    "import os\n",
    "\n",
    "display(HBox([resetWidget,resetButton,resetOutput]))\n",
    "resetButton.on_click(resetNotebook)"
   ]
  }
 ],
 "metadata": {
  "kernelspec": {
   "display_name": "Python 3 (ipykernel)",
   "language": "python",
   "name": "python3"
  },
  "language_info": {
   "codemirror_mode": {
    "name": "ipython",
    "version": 3
   },
   "file_extension": ".py",
   "mimetype": "text/x-python",
   "name": "python",
   "nbconvert_exporter": "python",
   "pygments_lexer": "ipython3",
   "version": "3.10.6"
  }
 },
 "nbformat": 4,
 "nbformat_minor": 5
}
