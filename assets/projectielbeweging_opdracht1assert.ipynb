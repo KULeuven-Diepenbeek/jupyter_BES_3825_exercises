{
 "cells": [
  {
   "cell_type": "code",
   "execution_count": null,
   "id": "3b9b4b0e-3d17-4050-bd5a-0a4dd303a394",
   "metadata": {},
   "outputs": [],
   "source": [
    "from IPython.display import display, Markdown\n",
    "## Voorbeeld vraag\n",
    "    \n",
    "try:\n",
    "    assert opdracht1Vraag.value == 'Grafiek 1'\n",
    "    display(Markdown(\"<span style='color: WHITE; background-color: GREEN'>&nbsp;Grafiek kiezen CORRECT </span>&nbsp;: In de tweede grafiek wordt geen rekening gehouden met het feit dat het voorwerp terug landt op de grond bij $h = 0m$.<br>\"))\n",
    "except AssertionError as e:\n",
    "    display(Markdown(\"<span style='color: WHITE; background-color: RED'>&nbsp;Grafiek kiezen NIET CORRECT </span>&nbsp;: In de tweede grafiek wordt geen rekening gehouden met het feit dat het voorwerp terug landt op de grond bij $h = 0m$.<br>\"))\n",
    "\n",
    "    \n",
    "try:\n",
    "    assert opdracht1Vraag2_1.value == 3\n",
    "    display(Markdown(\"<span style='color: WHITE; background-color: GREEN'>&nbsp;Functie van grafiek 1 CORRECT </span>\"))\n",
    "except AssertionError as e:\n",
    "    display(Markdown(\"<span style='color: WHITE; background-color: RED'>&nbsp;Functie van grafiek 1 NIET CORRECT </span>\"))\n",
    "\n",
    "try:\n",
    "    assert opdracht1Vraag2_2.value == 2\n",
    "    display(Markdown(\"<span style='color: WHITE; background-color: GREEN'>&nbsp;Functie van grafiek 2 CORRECT </span>\"))\n",
    "except AssertionError as e:\n",
    "    display(Markdown(\"<span style='color: WHITE; background-color: RED'>&nbsp;Functie van grafiek 2 NIET CORRECT </span>\"))\n",
    "\n",
    "#display\n",
    "display(Markdown(\"<span style='color: WHITE; background-color: BLUE'>&nbsp;UITLEG </span>: In python kan het probleem van de hoogte simpelweg opgelost worden door het maximum te nemen tussen 0 en de berekende hoogte zoals in de functie `berekenHoogteVersie1`: <br>``` y = max(0, y0+vy0*t-0.5*9.81*t**2)```\"))\n"
   ]
  }
 ],
 "metadata": {
  "kernelspec": {
   "display_name": "Python 3 (ipykernel)",
   "language": "python",
   "name": "python3"
  },
  "language_info": {
   "codemirror_mode": {
    "name": "ipython",
    "version": 3
   },
   "file_extension": ".py",
   "mimetype": "text/x-python",
   "name": "python",
   "nbconvert_exporter": "python",
   "pygments_lexer": "ipython3",
   "version": "3.10.6"
  }
 },
 "nbformat": 4,
 "nbformat_minor": 5
}
