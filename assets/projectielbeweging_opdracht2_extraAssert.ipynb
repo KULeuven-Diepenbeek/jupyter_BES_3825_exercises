{
 "cells": [
  {
   "cell_type": "code",
   "execution_count": null,
   "id": "f4faed67-a635-4dea-87af-5ee2538a9c29",
   "metadata": {},
   "outputs": [],
   "source": [
    "### SOLUTION ###\n",
    "# R in functie van valversnelling g\n",
    "def varieerValversnelling(g):\n",
    "    theta1 = np.pi / 3\n",
    "#    vm1 = 20  # m/s  snelheid motocrosser\n",
    "#    hs1 = 4  # m  hoogte schans\n",
    "    R = (vm1 * math.cos(theta1) / g) * (vm1 * math.sin(theta1) + np.sqrt((vm1 * math.sin(theta1)) ** 2 + 2 * g * hs1))\n",
    "    return R\n",
    "\n",
    "import ipywidgets\n",
    "def plotValversnellingenInteractief(x_range):\n",
    "    glijst=np.linspace(x_range[0],x_range[1],100)\n",
    "    plotFunctie(varieerValversnelling, 'bereik R (m)', glijst, 'valversnelling (m/s²)', titel = \"Bereik R in functie van valversnelling g\", kleur='b', nieuwePlot = True, label = False)\n",
    "    plt.show()\n",
    "    \n",
    "x_slider = ipywidgets.FloatRangeSlider(value=[9.780, 9.832], min=0.01, max=10.00,step=0.001,orientation='horizontal',readout=True,readout_format='.3f',description=\"g (m/s^2)\")\n",
    "ipywidgets.interact(plotValversnellingenInteractief, x_range=x_slider)"
   ]
  }
 ],
 "metadata": {
  "kernelspec": {
   "display_name": "Python 3 (ipykernel)",
   "language": "python",
   "name": "python3"
  },
  "language_info": {
   "codemirror_mode": {
    "name": "ipython",
    "version": 3
   },
   "file_extension": ".py",
   "mimetype": "text/x-python",
   "name": "python",
   "nbconvert_exporter": "python",
   "pygments_lexer": "ipython3",
   "version": "3.10.6"
  }
 },
 "nbformat": 4,
 "nbformat_minor": 5
}
