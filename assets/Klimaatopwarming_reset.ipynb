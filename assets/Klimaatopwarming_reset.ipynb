{
 "cells": [
  {
   "cell_type": "code",
   "execution_count": null,
   "id": "d5f45e3c-4305-46f0-a2bd-747837dfeb6a",
   "metadata": {},
   "outputs": [],
   "source": [
    "import ipywidgets\n",
    "from ipywidgets import HBox, VBox, Box\n",
    "from IPython.display import display\n",
    "\n",
    "resetOutput = ipywidgets.Output()\n",
    "resetWidget = ipywidgets.Text(\n",
    "    placeholder='Type here',\n",
    "    description='RESET?',\n",
    "    disabled=False\n",
    ")\n",
    "resetButton = ipywidgets.Button(\n",
    "    description='OK',\n",
    "    disabled=False,\n",
    "    button_style='info', # 'success', 'info', 'warning', 'danger' or ''\n",
    "    tooltip='Click me to reset',\n",
    "    icon='check' # (FontAwesome names without the `fa-` prefix)\n",
    ")\n",
    "\n",
    "def resetNotebook(arg):\n",
    "    text = resetWidget.value\n",
    "    resetOutput.clear_output()\n",
    "    if (text == \"IKBENZEKER\"):\n",
    "        with resetOutput:\n",
    "            print(\"RESETTING...\")\n",
    "        os.system(\"cp ../originele_oefeningen/K2W3-Klimaatopwarming.ipynb ./K2W3-Klimaatopwarming.ipynb >>./output.txt 2>>./errors.txt\")\n",
    "        with resetOutput:\n",
    "            print(\"DONE, sluit en heropen de file (DISCARD changes!!!)\")\n",
    "    else:\n",
    "         with resetOutput:\n",
    "            print(text)"
   ]
  }
 ],
 "metadata": {
  "kernelspec": {
   "display_name": "Python 3 (ipykernel)",
   "language": "python",
   "name": "python3"
  },
  "language_info": {
   "codemirror_mode": {
    "name": "ipython",
    "version": 3
   },
   "file_extension": ".py",
   "mimetype": "text/x-python",
   "name": "python",
   "nbconvert_exporter": "python",
   "pygments_lexer": "ipython3",
   "version": "3.10.6"
  }
 },
 "nbformat": 4,
 "nbformat_minor": 5
}
