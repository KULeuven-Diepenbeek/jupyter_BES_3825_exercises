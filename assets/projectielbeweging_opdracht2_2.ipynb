{
 "cells": [
  {
   "cell_type": "code",
   "execution_count": null,
   "id": "cfc012ae-7412-47d9-8c91-2e40cd9a49df",
   "metadata": {},
   "outputs": [],
   "source": [
    "from IPython.display import display, Markdown\n",
    "from ipywidgets import Layout,Dropdown\n",
    "plt.ioff()\n",
    "\n",
    "opdracht2_2vraag = ipywidgets.Dropdown(\n",
    "    options=[('Heb je de juiste grafiek gekozen?', 3), ('Ja', 1), ('Nee', 2)],\n",
    "    value=3,\n",
    "    description='Juist?',\n",
    "    layout=Layout(width='50%'))\n",
    "\n",
    "display(Markdown(\"**&nbsp;Heb je de juiste grafiek gekozen?**\"))"
   ]
  }
 ],
 "metadata": {
  "kernelspec": {
   "display_name": "Python 3 (ipykernel)",
   "language": "python",
   "name": "python3"
  },
  "language_info": {
   "codemirror_mode": {
    "name": "ipython",
    "version": 3
   },
   "file_extension": ".py",
   "mimetype": "text/x-python",
   "name": "python",
   "nbconvert_exporter": "python",
   "pygments_lexer": "ipython3",
   "version": "3.10.6"
  }
 },
 "nbformat": 4,
 "nbformat_minor": 5
}
