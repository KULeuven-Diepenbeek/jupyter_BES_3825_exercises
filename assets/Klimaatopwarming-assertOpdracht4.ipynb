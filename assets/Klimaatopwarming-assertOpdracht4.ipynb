{
 "cells": [
  {
   "cell_type": "code",
   "execution_count": null,
   "id": "81f1a06c-cadd-47cc-9c79-61a978ddc6de",
   "metadata": {},
   "outputs": [],
   "source": [
    "from IPython.display import display, Markdown\n",
    "\n",
    "try:\n",
    "    assert round(deltaTemp,2)==1.78\n",
    "    display(Markdown(\"<span style='color: WHITE; background-color: GREEN'>&nbsp;CORRECT </span>&nbsp;: Ga voort met de volgende opdracht.\"))\n",
    "except AssertionError as e:\n",
    "    print(\"\\033[1;31;43mError: Verkeerd antwoord, het juiste antwoord is: 1.78 °C. Jouw oplossing was \",round(deltaTemp,2),\" °C.\")\n",
    "    assert round(deltaTemp,2)==1.78\n",
    "    \n"
   ]
  }
 ],
 "metadata": {
  "kernelspec": {
   "display_name": "Python 3 (ipykernel)",
   "language": "python",
   "name": "python3"
  },
  "language_info": {
   "codemirror_mode": {
    "name": "ipython",
    "version": 3
   },
   "file_extension": ".py",
   "mimetype": "text/x-python",
   "name": "python",
   "nbconvert_exporter": "python",
   "pygments_lexer": "ipython3",
   "version": "3.10.6"
  }
 },
 "nbformat": 4,
 "nbformat_minor": 5
}
