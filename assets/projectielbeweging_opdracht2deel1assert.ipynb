{
 "cells": [
  {
   "cell_type": "code",
   "execution_count": null,
   "id": "f4faed67-a635-4dea-87af-5ee2538a9c29",
   "metadata": {},
   "outputs": [],
   "source": [
    "from IPython.display import display, Markdown\n",
    "\n",
    "if(opdracht2_1vraag.value != 3 and opdracht2_2vraag.value == 1 and opdracht2_1vraag.value != 5):\n",
    "    display(Markdown(\"<span style='color: WHITE; background-color: RED'>&nbsp;NIET correct </span>: Je hebt je grafiek niet goed nagekeken!\"))\n",
    "elif(opdracht2_1vraag.value != 3 and opdracht2_2vraag.value == 2 and opdracht2_1vraag.value != 5):\n",
    "    display(Markdown(\"<span style='color: WHITE; background-color: GREEN'>&nbsp;Je hebt je grafiek goed nagekeken!&nbsp;</span>\"))\n",
    "\n",
    "    \n",
    "if(opdracht2_1vraag.value == 3 and opdracht2_2vraag.value == 1):\n",
    "    display(Markdown(\"<span style='color: WHITE; background-color: GREEN'>&nbsp;Je hebt je grafiek goed nagekeken en je hebt de juiste grafiek gekozen.</span>\"))\n",
    "elif(opdracht2_1vraag.value == 3 and opdracht2_2vraag.value != 1):\n",
    "    display(Markdown(\"<span style='color: WHITE; background-color: RED'>&nbsp;NIET correct </span>: Je hebt je grafiek niet goed nagekeken, want ze was correct.\"))\n",
    "elif(opdracht2_1vraag.value == 1):\n",
    "    display(Markdown(\"<span style='color: WHITE; background-color: RED'>&nbsp;Je hebt de foute grafiek gekozen </span>: Kijk eens goed naar de eenheden op de y-as van grafiek 1. Zijn die waarden realistisch? De juiste grafiek was grafiek 3\"))\n",
    "elif(opdracht2_1vraag.value == 2):\n",
    "    display(Markdown(\"<span style='color: WHITE; background-color: RED'>&nbsp;Je hebt de foute grafiek gekozen </span>: Grafiek 2 is een periodische grafiek, klopt het dat door sneller te rijden je uiteindelijk terug minder ver springt? Neen, de juiste grafiek was grafiek 3\"))\n",
    "elif(opdracht2_1vraag.value == 4):\n",
    "    display(Markdown(\"<span style='color: WHITE; background-color: RED'>&nbsp;Je hebt de foute grafiek gekozen </span>: Grafiek 4 heeft een lokaal maximum, klopt het dat je door sneller te rijden uiteindelijk terug minder ver springt? Neen, de juiste grafiek was grafiek 3\"))\n",
    "else: \n",
    "    display(Markdown(\"<span style='color: WHITE; background-color: RED'>&nbsp;Je hebt de foute grafiek gekozen </span>: error kies een grafiek\"))\n",
    "\n",
    "\n"
   ]
  }
 ],
 "metadata": {
  "kernelspec": {
   "display_name": "Python 3 (ipykernel)",
   "language": "python",
   "name": "python3"
  },
  "language_info": {
   "codemirror_mode": {
    "name": "ipython",
    "version": 3
   },
   "file_extension": ".py",
   "mimetype": "text/x-python",
   "name": "python",
   "nbconvert_exporter": "python",
   "pygments_lexer": "ipython3",
   "version": "3.10.6"
  }
 },
 "nbformat": 4,
 "nbformat_minor": 5
}
