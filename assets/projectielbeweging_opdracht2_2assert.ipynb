{
 "cells": [
  {
   "cell_type": "code",
   "execution_count": 1,
   "id": "f4faed67-a635-4dea-87af-5ee2538a9c29",
   "metadata": {},
   "outputs": [],
   "source": [
    "from IPython.display import display, Markdown\n",
    "from ipywidgets import Layout,Dropdown\n",
    "\n",
    "# R in functie van hoogte hs\n",
    "def varieerHoogte(h):\n",
    "    theta1 = np.pi / 3\n",
    "    R=(vm1*math.cos(theta1)/9.81)*(vm1*math.sin(theta1)+np.sqrt((vm1*math.sin(theta1))**2+2*9.81*h))\n",
    "    return R\n",
    "\n",
    "def plotHoogtes():\n",
    "    hlijst=np.linspace(0,hs1,100)\n",
    "    plotFunctie(varieerHoogte, 'bereik R (m)', hlijst, 'hoogte schans (m)', titel = \"Bereik R in functie van hoogte hs\", kleur='b', nieuwePlot = True, label = False)\n",
    "    plt.show()\n",
    "plotHoogtes()\n",
    "\n",
    "opdracht2_2liniearVraag=ipywidgets.RadioButtons(\n",
    "    options=['Liniear', 'Exponentiëel', 'Geen van de twee'],\n",
    "    value=None,\n",
    "    description='Duid de beste beschrijving voor de relatie aan tussen R en de hoogte.',\n",
    "    disabled=False,\n",
    "    layout=Layout(width='100%'),\n",
    "    style=dict(description_width='initial'),\n",
    ")\n",
    "\n",
    "display(Markdown(\"**&nbsp;Duid de juiste relatie aan.**\"))\n"
   ]
  }
 ],
 "metadata": {
  "kernelspec": {
   "display_name": "Python 3 (ipykernel)",
   "language": "python",
   "name": "python3"
  },
  "language_info": {
   "codemirror_mode": {
    "name": "ipython",
    "version": 3
   },
   "file_extension": ".py",
   "mimetype": "text/x-python",
   "name": "python",
   "nbconvert_exporter": "python",
   "pygments_lexer": "ipython3",
   "version": "3.10.6"
  }
 },
 "nbformat": 4,
 "nbformat_minor": 5
}
