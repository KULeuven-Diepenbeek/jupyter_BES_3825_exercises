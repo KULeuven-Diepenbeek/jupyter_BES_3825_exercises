{
 "cells": [
  {
   "cell_type": "code",
   "execution_count": null,
   "id": "f4faed67-a635-4dea-87af-5ee2538a9c29",
   "metadata": {},
   "outputs": [],
   "source": [
    "# R in functie van hoek theta\n",
    "def varieerHoekAssert(theta):\n",
    "#    vm1 = 20  # m/s  snelheid motocrosser\n",
    "#    hs1 = 4  # m  hoogte schans\n",
    "    R = (vm1 * math.cos(theta) / 9.81) * (vm1 * math.sin(theta) + np.sqrt((vm1 * math.sin(theta)) ** 2 + 2 * 9.81 * hs1))\n",
    "    return R\n",
    "\n",
    "def plotHoekenAssert():\n",
    "    thetalijst=np.linspace(0,(math.pi)/2,100)\n",
    "    plotFunctie(varieerHoek, 'bereik R (m)', thetalijst, 'hoek (rad)',titel = \"Bereik R in functie van hoek\", kleur='g', nieuwePlot = True, label = False)\n",
    "    plt.show()\n",
    "    \n",
    "plotHoekenAssert() "
   ]
  }
 ],
 "metadata": {
  "kernelspec": {
   "display_name": "Python 3 (ipykernel)",
   "language": "python",
   "name": "python3"
  },
  "language_info": {
   "codemirror_mode": {
    "name": "ipython",
    "version": 3
   },
   "file_extension": ".py",
   "mimetype": "text/x-python",
   "name": "python",
   "nbconvert_exporter": "python",
   "pygments_lexer": "ipython3",
   "version": "3.10.6"
  }
 },
 "nbformat": 4,
 "nbformat_minor": 5
}
