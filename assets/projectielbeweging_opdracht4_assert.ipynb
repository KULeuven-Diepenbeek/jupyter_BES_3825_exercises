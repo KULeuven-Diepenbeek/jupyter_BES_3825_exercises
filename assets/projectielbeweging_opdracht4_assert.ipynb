{
 "cells": [
  {
   "cell_type": "code",
   "execution_count": null,
   "id": "4bbca04c-bb47-4d5e-873b-7d9eb480d5af",
   "metadata": {},
   "outputs": [],
   "source": [
    "def plotProjectielInteractieveVgl(vm1, hs1, theta1, g1, vm2, hs2, theta2, g2,xMax):\n",
    "    def berekenHoogte(x, x0, y0, vx0, vy0, g):\n",
    "        t = (x - x0)/vx0\n",
    "        y = max(0, y0+vy0*t-0.5*g*t**2)\n",
    "        return y\n",
    "    def plotProjectielBeweging(x0,y0,vx0,vy0,xMax,g, naamF=\"beweging van een projectiel\", kleur='k', nieuwePlot=True):\n",
    "        xs=np.linspace(0,xMax,250)\n",
    "\n",
    "        def berekenPos(x):\n",
    "            return berekenHoogte(x, x0, y0, vx0, vy0, g)\n",
    "\n",
    "        plotFunctie(berekenPos, 'y (m)', xs, \"x (m)\", label=True, kleur=kleur, nieuwePlot=nieuwePlot)\n",
    "\n",
    "    xMax = xMax\n",
    "    plotProjectielBeweging(0, hs1, vm1 * math.cos(theta1), vm1 * math.sin(theta1), xMax, g1, naamF=\"Projectiel 1\", kleur = 'b', nieuwePlot = True)\n",
    "    plotProjectielBeweging(0, hs2, vm2 * math.cos(theta2), vm2 * math.sin(theta2), xMax, g2, naamF=\"Projectiel 2\", kleur = 'r', nieuwePlot = False)\n",
    "    plt.show()\n",
    "from ipywidgets import HBox, VBox, Box\n",
    "from IPython.display import display\n",
    "    \n",
    "vm1_slider = ipywidgets.FloatSlider(value=20, min=0, max=50,step=1, description=\"vm1 (m/s)\")\n",
    "vm2_slider = ipywidgets.FloatSlider(value=20, min=0, max=50,step=1, description=\"vm2 (m/s)\")\n",
    "hs1_slider = ipywidgets.FloatSlider(value=4, min=0, max=10,step=0.1, description=\"hs1 (m)\")\n",
    "hs2_slider = ipywidgets.FloatSlider(value=4, min=0, max=10,step=0.1, description=\"hs2 (m)\")\n",
    "theta1_slider = ipywidgets.FloatSlider(value=np.pi / 3, min=0, max=np.pi / 2,step=0.01, description=\"Theta1 (rad)\")\n",
    "theta2_slider = ipywidgets.FloatSlider(value=np.pi / 3, min=0, max=np.pi / 2,step=0.01, description=\"Theta2 (rad)\")\n",
    "g1_text = ipywidgets.RadioButtons(options=[1.62, 9.81],value=9.81, description='Valversnelling 1 (m/s^2):',style=dict(description_width='initial'),)\n",
    "g2_text = ipywidgets.RadioButtons(options=[1.62, 9.81],value=9.81, description='Valversnelling 2 (m/s^2):',style=dict(description_width='initial'),)\n",
    "# g1_text = ipywidgets.BoundedFloatText(value=9.81, min=0, max=10.0, step=0.01)\n",
    "# g2_text = ipywidgets.BoundedFloatText(value=9.81, min=0, max=10.0, step=0.01)\n",
    "xMax_slider = ipywidgets.IntSlider(value=50, min=0, max=1000,step=10,description=\"xMax (m)\")\n",
    "\n",
    "left_box = VBox([vm1_slider,hs1_slider,theta1_slider,g1_text])\n",
    "right_box = VBox([vm2_slider,hs2_slider,theta2_slider,g2_text])\n",
    "high_box = HBox([left_box, right_box])\n",
    "display(VBox([high_box,xMax_slider]))\n",
    "\n",
    "\n",
    "graph = ipywidgets.interactive(plotProjectielInteractieveVgl, \n",
    "                    vm1=left_box.children[0],vm2=vm2_slider,\n",
    "                   hs1=hs1_slider,hs2=hs2_slider,\n",
    "                   theta1=theta1_slider,theta2=theta2_slider,\n",
    "                   g1=g1_text,g2=g2_text,\n",
    "                   xMax=xMax_slider)\n",
    "display(graph.children[-1])"
   ]
  }
 ],
 "metadata": {
  "kernelspec": {
   "display_name": "Python 3 (ipykernel)",
   "language": "python",
   "name": "python3"
  },
  "language_info": {
   "codemirror_mode": {
    "name": "ipython",
    "version": 3
   },
   "file_extension": ".py",
   "mimetype": "text/x-python",
   "name": "python",
   "nbconvert_exporter": "python",
   "pygments_lexer": "ipython3",
   "version": "3.10.6"
  }
 },
 "nbformat": 4,
 "nbformat_minor": 5
}
