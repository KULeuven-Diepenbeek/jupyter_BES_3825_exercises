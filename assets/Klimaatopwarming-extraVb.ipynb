{
 "cells": [
  {
   "cell_type": "code",
   "execution_count": 2,
   "id": "1ad5f1fb-840e-4a60-ab0e-2476194fc6ee",
   "metadata": {},
   "outputs": [],
   "source": [
    "import ipywidgets\n",
    "\n",
    "## Vraag 4c\n",
    "opdracht4cVraag = ipywidgets.RadioButtons(\n",
    "    options=['De gemiddelde temperatuur lijkt over de twee eeuwen gedaald te zijn.', 'De gemiddelde temperatuur lijkt over de twee eeuwen gelijk te zijn.', 'De gemiddelde temperatuur lijkt over de twee eeuwen gestegen te zijn.'],\n",
    "    value=None,\n",
    "    description='Wat wil dit zeggen?',\n",
    "    disabled=False,\n",
    "    layout=ipywidgets.Layout(width='auto', height='auto')\n",
    ")\n",
    "# layout = ipywidgets.Layout(width='auto', height='auto')\n",
    "# opdracht4c = ipywidgets.Box(children=[opdracht4cVraag],layout=layout)\n",
    "\n",
    "## Voorbeelden\n",
    "drop = ipywidgets.Dropdown(\n",
    "    options=[('One', 1), ('Two', 2), ('Three', 3)],\n",
    "    value=1,\n",
    "    description='Number:',\n",
    ")\n",
    "\n",
    "\n",
    "# items = [drop, opdracht4cVraag]\n",
    "# layout = ipywidgets.Layout(display=\"flex\", flex_flow=\"row wrap\", justify_content=\"space-between\",width='80%', height='auto')\n",
    "# box = ipywidgets.Box(children=items,layout=layout)"
   ]
  }
 ],
 "metadata": {
  "kernelspec": {
   "display_name": "Python 3 (ipykernel)",
   "language": "python",
   "name": "python3"
  },
  "language_info": {
   "codemirror_mode": {
    "name": "ipython",
    "version": 3
   },
   "file_extension": ".py",
   "mimetype": "text/x-python",
   "name": "python",
   "nbconvert_exporter": "python",
   "pygments_lexer": "ipython3",
   "version": "3.10.6"
  }
 },
 "nbformat": 4,
 "nbformat_minor": 5
}
