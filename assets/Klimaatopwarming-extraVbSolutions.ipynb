{
 "cells": [
  {
   "cell_type": "code",
   "execution_count": null,
   "id": "0bf6631e-9c87-4ac2-9041-bfb9dd03147e",
   "metadata": {},
   "outputs": [],
   "source": [
    "from IPython.display import display, Markdown\n",
    "## Voorbeeld vraag\n",
    "    \n",
    "try:\n",
    "    assert opdracht4cVraag.value == 'De gemiddelde temperatuur lijkt over de twee eeuwen gestegen te zijn.'\n",
    "    print(\"\\033[1;38;5;255;42m Correct! Ga verder \")\n",
    "    #display(Markdown(\"[modelvorming](./Modelvorming.ipynb)\"))\n",
    "    \n",
    "except AssertionError as e:\n",
    "    print(\"\\033[1;31;43mError: Verkeerd antwoord, het juiste antwoord is: 'De gemiddelde temperatuur over de twee eeuwen lijkt gestegen te zijn.'\")\n"
   ]
  }
 ],
 "metadata": {
  "kernelspec": {
   "display_name": "Python 3 (ipykernel)",
   "language": "python",
   "name": "python3"
  },
  "language_info": {
   "codemirror_mode": {
    "name": "ipython",
    "version": 3
   },
   "file_extension": ".py",
   "mimetype": "text/x-python",
   "name": "python",
   "nbconvert_exporter": "python",
   "pygments_lexer": "ipython3",
   "version": "3.10.6"
  }
 },
 "nbformat": 4,
 "nbformat_minor": 5
}
