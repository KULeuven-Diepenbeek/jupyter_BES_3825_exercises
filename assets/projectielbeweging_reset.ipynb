{
 "cells": [
  {
   "cell_type": "code",
   "execution_count": null,
   "id": "d5f45e3c-4305-46f0-a2bd-747837dfeb6a",
   "metadata": {},
   "outputs": [],
   "source": [
    "import ipywidgets\n",
    "from ipywidgets import HBox, VBox, Box\n",
    "from IPython.display import display\n",
    "\n",
    "resetOutput = ipywidgets.Output()\n",
    "resetWidget = ipywidgets.Text(\n",
    "    placeholder='Type here',\n",
    "    description='RESET?',\n",
    "    disabled=False\n",
    ")\n",
    "resetButton = ipywidgets.Button(\n",
    "    description='OK',\n",
    "    disabled=False,\n",
    "    button_style='info', # 'success', 'info', 'warning', 'danger' or ''\n",
    "    tooltip='Click me to reset',\n",
    "    icon='check' # (FontAwesome names without the `fa-` prefix)\n",
    ")\n",
    "\n",
    "def resetNotebook(arg):\n",
    "    text = resetWidget.value\n",
    "    resetOutput.clear_output()\n",
    "    if (text == \"IKBENZEKER\"):\n",
    "        with resetOutput:\n",
    "            print(\"RESETTING...\")\n",
    "        os.system(\"cp ../originele_oefeningen/K2W1-Projectielbeweging.ipynb ./K2W1-Projectielbeweging.ipynb >>./output.txt 2>>./errors.txt\")\n",
    "        with resetOutput:\n",
    "            print(\"DONE, sluit en heropen de file (DISCARD changes!!!)\")\n",
    "    else:\n",
    "         with resetOutput:\n",
    "            print(text)"
   ]
  }
 ],
 "metadata": {
  "kernelspec": {
   "display_name": "Python 3.10.8 64-bit",
   "language": "python",
   "name": "python3"
  },
  "language_info": {
   "codemirror_mode": {
    "name": "ipython",
    "version": 3
   },
   "file_extension": ".py",
   "mimetype": "text/x-python",
   "name": "python",
   "nbconvert_exporter": "python",
   "pygments_lexer": "ipython3",
   "version": "3.10.8"
  },
  "vscode": {
   "interpreter": {
    "hash": "26de051ba29f2982a8de78e945f0abaf191376122a1563185a90213a26c5da77"
   }
  }
 },
 "nbformat": 4,
 "nbformat_minor": 5
}
