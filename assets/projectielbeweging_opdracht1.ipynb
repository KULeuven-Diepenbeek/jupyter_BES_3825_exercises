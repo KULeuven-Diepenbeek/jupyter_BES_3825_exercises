{
 "cells": [
  {
   "cell_type": "code",
   "execution_count": null,
   "id": "cfc012ae-7412-47d9-8c91-2e40cd9a49df",
   "metadata": {},
   "outputs": [],
   "source": [
    "from IPython.display import display, Markdown\n",
    "plt.ioff()\n",
    "\n",
    "def plotProjectielBeweging(x0,y0,vx0,vy0,xMax, naamF=\"beweging van een projectiel\", kleur='k', nieuwePlot=True, ground=True):\n",
    "    xs=np.linspace(0,xMax,250)\n",
    "    def berekenPos(x):\n",
    "        return berekenHoogteVersie2(x, x0, y0, vx0, vy0)\n",
    "    def berekenPosNoGround(x):\n",
    "        return berekenHoogteVersie1(x, x0, y0, vx0, vy0)\n",
    "        \n",
    "    if ground:\n",
    "        plotFunctie(berekenPos, naamF, xs, \"x (m)\", label=True, kleur=kleur, nieuwePlot=nieuwePlot)\n",
    "    else:\n",
    "        plotFunctie(berekenPosNoGround, naamF, xs, \"x (m)\", label=True, kleur=kleur, nieuwePlot=nieuwePlot)\n",
    "    plt.ylabel('y (m)')\n",
    "    \n",
    "def voorbeeldProjectiel(naamF=\"beweging van een projectiel\",ground=True):\n",
    "    x0 = 0\n",
    "    vx0 = vm1 * math.cos(theta1)\n",
    "    vy0 = vm1 * math.sin(theta1)\n",
    "    tMax = 5\n",
    "    xMax = x0+vx0*tMax\n",
    "    plotProjectielBeweging(x0,hs1,vx0,vy0,xMax,naamF,ground = ground)\n",
    "    plt.show()\n",
    "\n",
    "voorbeeldProjectiel(naamF=\"beweging van een projectiel grafiek 1\")\n",
    "voorbeeldProjectiel(naamF=\"beweging van een projectiel grafiek 2\",ground=False)\n",
    "\n",
    "opdracht1Vraag = ipywidgets.RadioButtons(\n",
    "    options=['Grafiek 1', 'Grafiek 2'],\n",
    "    value=None,\n",
    "    description='Welke grafiek benadert de werkelijkheid het beste?',\n",
    "    disabled=False,\n",
    "    layout=ipywidgets.Layout(width='100%', height='auto'),\n",
    "    style=dict(description_width='initial'),\n",
    ")\n",
    "\n",
    "#display(Markdown(\"<span style='color: WHITE; background-color: GREEN'>&nbsp;CORRECT </span>&nbsp;: Ga voort met de volgende stap.\"))\n",
    "display(Markdown(\"**&nbsp;Welke grafiek benadert de werkelijkheid het beste?**\"))\n",
    "\n"
   ]
  }
 ],
 "metadata": {
  "kernelspec": {
   "display_name": "Python 3 (ipykernel)",
   "language": "python",
   "name": "python3"
  },
  "language_info": {
   "codemirror_mode": {
    "name": "ipython",
    "version": 3
   },
   "file_extension": ".py",
   "mimetype": "text/x-python",
   "name": "python",
   "nbconvert_exporter": "python",
   "pygments_lexer": "ipython3",
   "version": "3.10.6"
  }
 },
 "nbformat": 4,
 "nbformat_minor": 5
}
