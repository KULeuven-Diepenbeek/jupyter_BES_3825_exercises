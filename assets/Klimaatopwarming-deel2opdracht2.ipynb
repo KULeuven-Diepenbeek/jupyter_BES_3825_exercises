{
 "cells": [
  {
   "cell_type": "code",
   "execution_count": null,
   "id": "32bd7730-b609-4d37-af60-aa8e4706460a",
   "metadata": {},
   "outputs": [],
   "source": [
    "import ipywidgets\n",
    "\n",
    "def plotOpdracht2Interactief(logscale = False):\n",
    "    pltGhg = plotDataFrame(ghgData, \"year\", \"CO2 ppm\", nieuwePlot = True)\n",
    "    if logscale:\n",
    "        pltGhg.xscale('symlog')\n",
    "    else:\n",
    "         pltGhg.xscale('linear')\n",
    "    plt.show()\n",
    "\n",
    "scaleCheck = ipywidgets.Checkbox(\n",
    "    value=False,\n",
    "    description='Scale: symlog',\n",
    "    disabled=False\n",
    ")\n",
    "\n",
    "ipywidgets.interact(plotOpdracht2Interactief, logscale=scaleCheck)"
   ]
  }
 ],
 "metadata": {
  "kernelspec": {
   "display_name": "Python 3 (ipykernel)",
   "language": "python",
   "name": "python3"
  },
  "language_info": {
   "codemirror_mode": {
    "name": "ipython",
    "version": 3
   },
   "file_extension": ".py",
   "mimetype": "text/x-python",
   "name": "python",
   "nbconvert_exporter": "python",
   "pygments_lexer": "ipython3",
   "version": "3.10.6"
  }
 },
 "nbformat": 4,
 "nbformat_minor": 5
}
