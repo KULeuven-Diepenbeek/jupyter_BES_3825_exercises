{
 "cells": [
  {
   "cell_type": "code",
   "execution_count": null,
   "id": "cfc012ae-7412-47d9-8c91-2e40cd9a49df",
   "metadata": {},
   "outputs": [],
   "source": [
    "from IPython.display import display, Markdown\n",
    "from ipywidgets import Layout,Dropdown\n",
    "plt.ioff()\n",
    "\n",
    "opdracht1Vraag2_1 = ipywidgets.Dropdown(\n",
    "    options=[('Kies de correcte functie voor grafiek 1', 1), ('berekenHoogteVersie1', 2), ('berekenHoogteVersie2', 3)],\n",
    "    value=1,\n",
    "    description='Grafiek 1:',\n",
    "    layout=Layout(width='50%'))\n",
    "\n",
    "opdracht1Vraag2_2 = ipywidgets.Dropdown(\n",
    "    options=[('Kies de correcte functie voor grafiek 2', 1), ('berekenHoogteVersie1', 2), ('berekenHoogteVersie2', 3)],\n",
    "    value=1,\n",
    "    description='Grafiek 2:',\n",
    "    layout=Layout(width='50%'))\n",
    "\n",
    "#display(Markdown(\"<span style='color: WHITE; background-color: GREEN'>&nbsp;CORRECT </span>&nbsp;: Ga voort met de volgende stap.\"))\n",
    "display(Markdown(\"**&nbsp;Welke functie hoort bij welke grafiek?**\"))\n",
    "\n"
   ]
  }
 ],
 "metadata": {
  "kernelspec": {
   "display_name": "Python 3 (ipykernel)",
   "language": "python",
   "name": "python3"
  },
  "language_info": {
   "codemirror_mode": {
    "name": "ipython",
    "version": 3
   },
   "file_extension": ".py",
   "mimetype": "text/x-python",
   "name": "python",
   "nbconvert_exporter": "python",
   "pygments_lexer": "ipython3",
   "version": "3.10.6"
  }
 },
 "nbformat": 4,
 "nbformat_minor": 5
}
