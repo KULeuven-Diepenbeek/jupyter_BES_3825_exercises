{
 "cells": [
  {
   "cell_type": "code",
   "execution_count": null,
   "id": "3b9b4b0e-3d17-4050-bd5a-0a4dd303a394",
   "metadata": {},
   "outputs": [],
   "source": [
    "from IPython.display import display, Markdown\n",
    "## Voorbeeld vraag\n",
    "    \n",
    "try:\n",
    "    assert opdracht1deel2toassert\n",
    "    display(Markdown(\"<span style='color: WHITE; background-color: GREEN'>&nbsp;Het lijkt erop dat je grafiek voldoende dicht bij 0m eidigt. </span>&nbsp;**Vergelijk voor de zekerhied je grafiek nog eens met de grafieken hierboven**\"))\n",
    "except AssertionError as e:\n",
    "    display(Markdown(\"<span style='color: WHITE; background-color: RED'>&nbsp;Nog niet correct </span>&nbsp;**Je grafiek lijkt nog niet dicht genoeg bij 0m te eindigen.** <br>***TIP:*** heb je de functie `xOverschrijdtWaarde` gebruikt? Zo ja, dan kan je fout nog liggen aan de gebruikte parameters:<br>&nbsp;&nbsp;&nbsp;&nbsp;&nbsp;`xMax_new = xOverschrijdtWaarde(berekenPos, ?, ?, ?, ?precisie?, stijgendeFlank = ?)`<br><br> Probeer het nog eens door voor de `?`'s de juiste waarden voor de parameters in te vullen.<br><i>Denk vooral na over de waarde voor `?precisie?`. Moet die groot (>10) of juist klein (<0.5) zijn?</i> <br><br><mark>TODO: Pas het codeblok hierboven opnieuw aan en run het codeblok om te kijken of je nieuwe oplossing wel goed is.</mark><br><br><br><br>\"))\n",
    "\n"
   ]
  }
 ],
 "metadata": {
  "kernelspec": {
   "display_name": "Python 3 (ipykernel)",
   "language": "python",
   "name": "python3"
  },
  "language_info": {
   "codemirror_mode": {
    "name": "ipython",
    "version": 3
   },
   "file_extension": ".py",
   "mimetype": "text/x-python",
   "name": "python",
   "nbconvert_exporter": "python",
   "pygments_lexer": "ipython3",
   "version": "3.10.6"
  }
 },
 "nbformat": 4,
 "nbformat_minor": 5
}
