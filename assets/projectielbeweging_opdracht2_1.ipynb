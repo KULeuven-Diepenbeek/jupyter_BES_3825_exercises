{
 "cells": [
  {
   "cell_type": "code",
   "execution_count": null,
   "id": "cfc012ae-7412-47d9-8c91-2e40cd9a49df",
   "metadata": {},
   "outputs": [],
   "source": [
    "from IPython.display import display, Markdown\n",
    "from ipywidgets import Layout,Dropdown\n",
    "plt.ioff()\n",
    "\n",
    "opdracht2_1vraag = ipywidgets.Dropdown(\n",
    "    options=[('Kies de correcte grafiek die de relatie van R i.f.v. v weergeeft', 5), ('Grafiek 1', 1), ('Grafiek 2', 2),('Grafiek 3', 3),('Grafiek 4', 4)],\n",
    "    value=5,\n",
    "    description='R i.f.v. v',\n",
    "    layout=Layout(width='100%'))\n",
    "\n",
    "display(Markdown(\"**&nbsp;Kies de correcte grafiek die de relatie van $R$ i.f.v. $v$ weergeeft**\"))\n",
    "\n"
   ]
  }
 ],
 "metadata": {
  "kernelspec": {
   "display_name": "Python 3 (ipykernel)",
   "language": "python",
   "name": "python3"
  },
  "language_info": {
   "codemirror_mode": {
    "name": "ipython",
    "version": 3
   },
   "file_extension": ".py",
   "mimetype": "text/x-python",
   "name": "python",
   "nbconvert_exporter": "python",
   "pygments_lexer": "ipython3",
   "version": "3.10.6"
  }
 },
 "nbformat": 4,
 "nbformat_minor": 5
}
