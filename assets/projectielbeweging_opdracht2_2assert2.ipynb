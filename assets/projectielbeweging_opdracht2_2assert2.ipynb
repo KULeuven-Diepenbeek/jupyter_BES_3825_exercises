{
 "cells": [
  {
   "cell_type": "code",
   "execution_count": null,
   "id": "f4faed67-a635-4dea-87af-5ee2538a9c29",
   "metadata": {},
   "outputs": [],
   "source": [
    "from IPython.display import display, Markdown\n",
    "from ipywidgets import Layout,Dropdown\n",
    "\n",
    "display(Markdown(\"<br>\"))\n",
    "display(Markdown(\"Op voorgaande plot lijkt de grafiek een soort **lineair** verband te vertonen. Maar als we naar de formule kijken, zijn we daar nog niet zo zeker van.<br>Er is extra onderzoek vereist, daarom plotten we hetzelfde verband nog eens maar met een veel groter bereik.<br><br><b>Wat kan je nu zien?</b>\"))\n",
    "display(Markdown(\"<br>\"))\n",
    "\n",
    "# R in functie van hoogte hs\n",
    "def varieerHoogte2(h):\n",
    "    theta1 = np.pi / 3\n",
    "    R=(vm1*math.cos(theta1)/9.81)*(vm1*math.sin(theta1)+np.sqrt((vm1*math.sin(theta1))**2+2*9.81*h))\n",
    "    return R\n",
    "\n",
    "def plotHoogtes2():\n",
    "    hlijst=np.linspace(0,1000,1000)\n",
    "    plotFunctie(varieerHoogte, 'bereik R (m)', hlijst, 'hoogte schans (m)', titel = \"Bereik R in functie van hoogte hs\", kleur='g', nieuwePlot = True, label = False)\n",
    "    plt.show()\n",
    "plotHoogtes2()\n",
    "\n",
    "display(Markdown(\"<br>\"))\n",
    "display(Markdown(\"We kunnen nu duidelijk zien dat er **geen linear** verband en **geen exponentieel** verband bestaat.<br>Je ziet dus dat je als ingenieur steeds kritisch en nieuwsgierig moet zijn om dingen te onderzoeken.<br><br>*Je kan het exacte verband afleiden vanuit de formule, dit onderdeel van BES gaat echter over grafieken interpreteren dus het is voldoende te besluiten dat het geen liniear of exponentieel verband is.*\"))\n",
    "display(Markdown(\"<br>\"))"
   ]
  }
 ],
 "metadata": {
  "kernelspec": {
   "display_name": "Python 3 (ipykernel)",
   "language": "python",
   "name": "python3"
  },
  "language_info": {
   "codemirror_mode": {
    "name": "ipython",
    "version": 3
   },
   "file_extension": ".py",
   "mimetype": "text/x-python",
   "name": "python",
   "nbconvert_exporter": "python",
   "pygments_lexer": "ipython3",
   "version": "3.10.6"
  }
 },
 "nbformat": 4,
 "nbformat_minor": 5
}
