{
 "cells": [
  {
   "cell_type": "markdown",
   "metadata": {},
   "source": [
    "# Handleiding: Jupyternotebooks in Jupyterlab voor BES\n",
    "\n",
    "Welkom in de JupyterHub omgeving. JupyterHub is een educatieve omgeving om Jupyter notebooks te ontwikkelen en \"af te spelen\".\n",
    "\n",
    "[Wat zijn jupyter notebooks?](https://pythoncursus.nl/jupyter-notebook/)\n",
    ">Jupyter Notebook is een webapplicatie waarmee python documenten gemaakt, uitgevoerd en gedeeld kunnen worden, die vanuit de browser te runnen zijn.\n",
    ">In Jupyter Notebook kun je:\n",
    ">- live coden, \n",
    ">- vergelijkingen opstellen, \n",
    ">- visualisaties maken en verhalende tekst creëren.\n",
    ">\n",
    ">Het wordt bijvoorbeeld gebruikt voor data opschoning en transformatie, numerieke simulaties, statistisch modelleren, data visualisatie en machine learning.<br>\n",
    ">&nbsp;"
   ]
  },
  {
   "cell_type": "markdown",
   "metadata": {},
   "source": [
    "## Jupyterhub omgeving"
   ]
  },
  {
   "cell_type": "markdown",
   "metadata": {},
   "source": [
    "#### De file-explorer\n",
    "Aan de linkerkant kan je door op het `📁-icoon` te klikken het file-explorer pane tonen/verbergen.<br>\n",
    "Je kan net zoals op je eigen computer mappen en bestanden aanmaken, hernoemen en verwijderen.<br>\n",
    "Door te dubbelklikken op een bestand kan je het in de editor openen.<br><br>\n",
    "Bestanden die geopend kunnen worden zijn: txt, csv, md, ipynb (ipynb is de extentie die gebruikt voor jupyter notebooks)<br>\n",
    "\n",
    "<img title=\"JupyterHub file-explorer\" alt=\"JupyterHub file-explorer\" style=\"margin-left: 0px;margin-right: auto;width: 300px;\" href=\"test\" src=\"./assets_handleiding/jupyterhub_fileExplorer.png\">\n",
    "\n",
    "##### De root folder\n",
    "Door op het mapjesicoon te klikken zoals in onderstaande foto kom je in de root folder terecht. Daar zou je de volgende mappen moeten zien: mijn_oefeningen, originele oefeningen, originele setup, shared.\n",
    "\n",
    "<img title=\"JupyterHub file-explorer\" alt=\"JupyterHub file-explorer\" style=\"margin-left: 0px;margin-right: auto;width: 300px;\" href=\"test\" src=\"./assets_handleiding/jupyterhub_fileExplorer2.png\">\n",
    "\n",
    "In de map `mijn_oefeningen` kan je je eigen oefeningen terugvinden.\n",
    "\n",
    "<img title=\"JupyterHub file-explorer\" alt=\"JupyterHub file-explorer\" style=\"margin-left: 0px;margin-right: auto;width: 300px;\" href=\"test\" src=\"./assets_handleiding/jupyterhub_fileExplorer3.png\">"
   ]
  },
  {
   "cell_type": "markdown",
   "metadata": {},
   "source": [
    "#### Jupyter notebook opbouw\n",
    "Een jupyter notebook is opgebouwd uit verschillende cellen.\n",
    "Er bestaan 3 verschillende soorten cellen:\n",
    "- raw-text\n",
    "- python\n",
    "- markdown"
   ]
  },
  {
   "cell_type": "markdown",
   "metadata": {},
   "source": [
    "##### raw-text cell blok\n",
    "In dit soort cel kan je tekst schrijven zonder enige opmaak:<br>\n",
    "(Hieronder vind je zo een cell)"
   ]
  },
  {
   "cell_type": "raw",
   "metadata": {},
   "source": [
    "Hier kan je wat tekst typen"
   ]
  },
  {
   "cell_type": "markdown",
   "metadata": {},
   "source": [
    "##### Python cell blok (ook wel codeblok genoemd)\n",
    "In dit soort cel kan je python code schrijven en runnen, dit is hetgene wat jupyter notebooks zo speciaal maakt.<br>\n",
    "Je kan de cel \"runnen\" door je cursor in de cell te plaatsen en op de `▶-knop` hierboven te klikken. Het `[ ]-vakje` naast een codeblok geeft aan in welke volgorde de codeblokken werden uitgevoerd.<br>\n",
    "<mark>&nbsp;TODO: Run het volgende codeblok om `'hello world'` te printen:&nbsp;</mark>"
   ]
  },
  {
   "cell_type": "code",
   "execution_count": null,
   "metadata": {},
   "outputs": [],
   "source": [
    "# TODO: run dit codeblok om 'hello world' te printen.\n",
    "print(\"Hello world\")"
   ]
  },
  {
   "cell_type": "markdown",
   "metadata": {},
   "source": [
    "**Zoals je kan zien verschijnt de output van je code onder het codeblok**<br>\n",
    "Hetzelfde zal gebeuren voor errors.\n",
    "\n",
    "<mark>&nbsp;TODO: Run het volgende codeblok: een errorboodschap verschijnt. Zoek de fout in de code, run het codeblok opnieuw totdat de error is opgelost.&nbsp;</mark>\n",
    "\n",
    "*TIP: Je can een codeblok ook runnen door je cursor in de cell te plaatsen en op `ctrl + ENTER` te drukken.*"
   ]
  },
  {
   "cell_type": "code",
   "execution_count": null,
   "metadata": {},
   "outputs": [],
   "source": [
    "# TODO: run dit codeblok: een errorboodschap verschijnt. Zoek de fout in de code, run het codeblok opnieuw totdat de error is opgelost.\n",
    "print(\"Hello world)"
   ]
  },
  {
   "cell_type": "markdown",
   "metadata": {},
   "source": [
    "**De volgorde waarin codeblokken worden uitgevoerd is ook belangrijk!**\n",
    "<mark>&nbsp;TODO: </mark>\n",
    "<mark>- Run het eerstvolgende codeblok: een errorboodschap verschijnt. </mark>\n",
    "<mark>- Run het daarop volgende codeblok en run daarna het eerst codeblok opnieuw. (je zal zien dat de errorboodschap verdwenen is) </mark>"
   ]
  },
  {
   "cell_type": "code",
   "execution_count": null,
   "metadata": {},
   "outputs": [],
   "source": [
    "volgordeVoorbeeld()"
   ]
  },
  {
   "cell_type": "code",
   "execution_count": null,
   "metadata": {},
   "outputs": [],
   "source": [
    "def volgordeVoorbeeld():\n",
    "    print(\"Nu werkt het wel omdat je dit codeblok gerund hebt na het codeblok waarin je de functie gedefiniëerd hebt.\")"
   ]
  },
  {
   "cell_type": "markdown",
   "metadata": {},
   "source": [
    "**OUTPUT verwijderen en kernel herstarten:**\n",
    "Met een rechtermuisklik op een output klikken opent een menu en door op `clear output` te klikken wordt de output verwijderd. Door de cell opnieuw te runnen komt de output terug.<br>\n",
    "Je kan via het menu ook alle outputs verwijderen met `clear all outputs`.<br>\n",
    "\n",
    "<img title=\"JupyterHub clear outputs\" alt=\"JupyterHub clear outputs\" style=\"margin-left: 0px;margin-right: auto;width: 300px;\" href=\"test\" src=\"./assets_handleiding/jupyterhub_clearOutputs.png\">\n",
    "\n",
    "\n",
    "*Let op: hiermee is niet de gerunde code uit het geheugen verwijderd*\n",
    "\n",
    "Dit kan je doen door hierboven op het `🔄-icoon` te klikken en daarna op `restart`\n",
    "\n",
    "<img title=\"JupyterHub restart kernel\" alt=\"JupyterHub restart kernel\" style=\"margin-left: 0px;margin-right: auto;width: 300px;\" href=\"test\" src=\"./assets_handleiding/jupyterhub_restartKernel.png\">\n",
    "\n",
    "<img title=\"JupyterHub restart kernel2\" alt=\"JupyterHub restart kernel2\" style=\"margin-left: 0px;margin-right: auto;width: 300px;\" href=\"test\" src=\"./assets_handleiding/jupyterhub_restartKernel2.png\">\n",
    "\n",
    "***Vergeet niet voorgaande cellen terug te runnen indien nodig***"
   ]
  },
  {
   "cell_type": "markdown",
   "metadata": {},
   "source": [
    "##### Markdown cell\n",
    "Alle cellen waarin tekst met opmaak verschijnt zijn markdown cellen.<br>\n",
    "Je moet niet weten hoe markdown werkt stel dat je per ongeluk dubbelklikt op een markdown cell komt de broncode voor de markdown tevoorschijn.<br>\n",
    "Geen paniek dan want je kan de tekst terug de opmaak geven door die cell gewoon te runnen.\n",
    "\n",
    "*hieronder zie je een voorbeeld van de bronmarkdown code van deze cell*\n",
    "<br><br><br>\n",
    "```markdown\n",
    "##### Markdown cell\n",
    "Alle cellen waarin tekst met opmaak verschijnt zijn markdown cellen.<br>\n",
    "Je moet niet weten hoe markdown werkt stel dat je per ongeluk dubbelklikt op een markdown cell komt de broncode voor de markdown tevoorschijn.<br>\n",
    "Geen paniek dan want je kan de tekst terug de opmaak geven door die cell gewoon te runnen.\n",
    "\n",
    "*hieronder zie je een voorbeeld van de bronmarkdown code van deze cell*\n",
    "```"
   ]
  },
  {
   "cell_type": "markdown",
   "metadata": {},
   "source": [
    "\n",
    "## Oefeningen files resetten\n",
    "\n",
    "Het kan zijn dat je per ongeluk eens een fout maakt en je helemaal opnieuw aan een oefening wil starten.<br>\n",
    "Onderaan elk oefeningen notebook kan je een codeblok runnen om de notebook te resetten.<br>\n",
    "Voor instructies zie de afbeelding hieronder als voorbeeld.\n",
    "\n",
    "*Let wel op dat hierbij al je eigen veranderingen van die file verloren gaan!*\n",
    "\n",
    "<img title=\"JupyterHub clear outputs\" alt=\"JupyterHub clear outputs\" style=\"margin-left: 0px;margin-right: auto;width: 700px;\" href=\"test\" src=\"./assets_handleiding/resetNotebook.png\">\n",
    "\n",
    "<br><br>\n",
    "\n",
    "## Een willekeurige file resetten\n",
    "\n",
    "Wat het voorgaande enkel voor jou automatisch doet is de file in je `mijn-oefeningen`-folder verwijderen en dezelfde file uit de `originele-oefeningen`-folder kopiëren naar je `mijn-oefeningen`-folder. Dit kan je zelf ook gewoon voor iedere file doen die je wil resetten. **(Denk eraan om eerst de code in het [Start-HIER](../originele_setup/Start-HIER.ipynb)-notebook te runnen om de nieuwste versies te downloaden)**\n"
   ]
  },
  {
   "cell_type": "markdown",
   "metadata": {},
   "source": [
    "## Een notebook opslaan\n",
    "Sla je wijzigingen op met `Ctrl+s` of door op de 💾-knop te klikken."
   ]
  },
  {
   "cell_type": "markdown",
   "metadata": {},
   "source": [
    "<br><br><br>\n",
    "\n",
    "# De volgende stap: Oefeningen\n",
    "## Klik [hier (oefeningenlijst)](./oefeningenlijst.ipynb) voor een overzicht van alle oefeningen.\n",
    "\n",
    "- Klik [hier (K2W1-Projectielbeweging)](./K2W1-Projectielbeweging.ipynb) om te starten met de oefening rond modelvorming.\n",
    "- Klik [hier (K2W3-Klimaatopwarming)](./K2W3-Klimaatopwarming.ipynb) om te starten met de oefening rond data-analyse."
   ]
  },
  {
   "cell_type": "markdown",
   "metadata": {},
   "source": [
    "<br><br><br>\n",
    "\n",
    "# Jupyterlab Tips and tricks\n",
    "##### Alle tips om je in jupyterlab even thuis te voelen als in PyCharm: [Klik hier](./Jupyterlab_tips_and_tricks.ipynb)\n",
    "\n",
    "**Enkele tips die handig zijn bij het maken van de oefeningen worden hier ook al vermeld**\n",
    "\n",
    "## Tip 1: Kernel resetten\n",
    "Als je code voor een onbegrijpelijke manier niet werkt, kan het zijn dat er ongewilde data in een bepaald cache geheugen is opgeslagen of iets dergelijks. Het kan dus soms een goed idee zijn om even alles te herstarten en dan je code weer chronologisch te runnen. Soms geraakt je probleem op die manier snel opgelost. \n",
    "\n",
    "Om de kernel te resetten kan je op de 🔄-knop klikken (tussen de ⏹-knop en de ⏩-knop, in de balk van de playtoets). Een pop-up verschijnt om te vragen of je zeker bent. Klik dan op de knop `restart`. \n",
    "\n",
    "**Nadat je de kernel herstart hebt is het vaak ook een goed idee om alle output te verwijderen**\n",
    "\n",
    "## Tip 2: PyCharm shortcuts\n",
    "Je kan net als in pycharm shortcuts gebruiken voor dingen zoals 'autocomplete' of 'docstring'.\n",
    "**Voor alle volgende instructies moet je zeker zijn dat de functie die je wil autocompleten of waarvan je de docstring wil bekijken al geimporteerd is en je dat codeblok al eens gerunt hebt**\n",
    "- **Autocomplete**: Start met het schrijven van een functie of variabele en druk op de `Tab`-toets. Een menu verschijnt waar je uit verschillende opties kan kiezen.\n",
    "- **Docstring**: Ga met je cursor op een functie staan en druk op de `Shift+Tab`-toets. Een menu verschijnt met de docstring en zelfs voorbeeldcode die je laat zijn hoe je de functie kan gebruiken\n",
    "- **Dataframe tonen**: Je kan een dataframe simpel weergeven door de naam van je dataframe in een codecell te typen en dat codeblok te runnen. (je kan ook weer met `Shift+Tab` meer uitleg over het dataframe te weten komen)\n",
    "\n",
    "## Tip 3: Quality of life Jupyterlab tips\n",
    "- Gebruik `Shift+Enter` om een blok te runnen en de focus naar het volgende blok te brengen. Zo kan je zeer snel verschillende blokken achter elkaar runnen. (Markdown of raw-text blokken runnen doet niets dus je kan gewoon `Shift+Enter` blijven spammen)\n",
    "- Als de output van een code blok enorm lang is, kan je dit verkleinen en scrollbaar maken door: `rechtermuisklik` op de output -> klik op `Enable scrolling for output`.\n",
    "- Lijnnummers laten zien in een code blok kan je eenvoudigweg aanzetten via: `View` -> `Show Line Numbers`\n",
    "- Lettertypes vergroten kan je doen via: `Settings` -> `Theme` -> `Increase code font size`\n",
    "\n",
    "\n",
    "## Nog veel meer tips kan je vinden via `Help`->`Jupyter(lab) Reference`"
   ]
  }
 ],
 "metadata": {
  "kernelspec": {
   "display_name": "Python 3 (ipykernel)",
   "language": "python",
   "name": "python3"
  },
  "language_info": {
   "codemirror_mode": {
    "name": "ipython",
    "version": 3
   },
   "file_extension": ".py",
   "mimetype": "text/x-python",
   "name": "python",
   "nbconvert_exporter": "python",
   "pygments_lexer": "ipython3",
   "version": "3.10.6"
  },
  "vscode": {
   "interpreter": {
    "hash": "26de051ba29f2982a8de78e945f0abaf191376122a1563185a90213a26c5da77"
   }
  }
 },
 "nbformat": 4,
 "nbformat_minor": 4
}
