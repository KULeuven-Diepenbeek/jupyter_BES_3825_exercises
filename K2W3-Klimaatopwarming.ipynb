{
 "cells": [
  {
   "cell_type": "markdown",
   "id": "b7abc50e-58d0-436f-b895-cdfe12ac9fe1",
   "metadata": {
    "tags": []
   },
   "source": [
    "# 3. Meetdata en interpreteren\n",
    "### Week 3\n",
    "#### Versie 1.1"
   ]
  },
  {
   "cell_type": "markdown",
   "id": "ad92ed96-4bea-4277-9bc4-b37a35d09039",
   "metadata": {
    "tags": []
   },
   "source": [
    "## 1. Situering"
   ]
  },
  {
   "cell_type": "markdown",
   "id": "8dd83036-d8e1-4a09-876f-7dd6b57a640b",
   "metadata": {
    "tags": []
   },
   "source": [
    "De klimaatopwarming is een thema dat niet meer weg te slaan is uit de media. En terecht, het is een thema dat ons allen aanbelangt. Als individu kan ieder zijn/haar steentje bijdragen om onze uitstoot van schadelijke broeikasgassen onder controle te houden. Als ingenieur kan je nog meer bijdragen, bijvoorbeeld in de ontwikkeling van duurzame materialen, energiezuinige machines, uitstootvrije voertuigen of klimaatneutrale gebouwen. Om maar een paar voorbeelden te noemen. Maar hoezeer is het nu gesteld met het klimaat? Wat leert historische data van de globale temperatuur op aarde ons? En zijn er gegevens over de concentratie van CO<sub>2</sub> en andere broeikasgassen zoals methaan (CH<sub>4</sub>) en stikstofoxide (NO) in onze atmosfeer? \n",
    "\n",
    "Wel die zijn er. De bijgeleverde CSV-bestanden bevatten de nodige data om een goed model op te stellen voor het te onderzoeken probleem. Het is wel steeds belangrijk om zeker te zijn van de betrouwbaarheid van deze data aangezien een goede data-analyse nutteloos is wanneer je het baseert op foutieve data. In dit geval mag je er van uitgaan dat de aangeleverde data betrouwbaar is. (Wil je meer weten over hoe die data vergaard is, neem dan gerust een kijkje in de bijlage helemaal onderaan).\n",
    "\n",
    "Met behulp van alle gegevens willen we nu in python de data analyseren om antwoorden te zoeken op bovenstaande vragen."
   ]
  },
  {
   "cell_type": "markdown",
   "id": "b5c98f84-5f3e-432d-bbd1-26081bf2b320",
   "metadata": {},
   "source": [
    "## 2. Datasets"
   ]
  },
  {
   "cell_type": "markdown",
   "id": "adb0b6e1-1429-4329-b1c2-21a848a19f18",
   "metadata": {},
   "source": [
    "Er zijn verscheidene datafiles beschikking gesteld. De eerste: `Berkley_earth_GlobalTemperatures.csv` bevat de globale landtemperatuur van 1850 tot en met 2020. Deze data bevat de gemiddelde landtemperatuur gemeten in verscheidene erkende weerstations gelegen in het Noordelijk halfrond van de aarde.\n",
    "\n",
    "De andere datafiles bevatten gegevens betreffende de concentratie van de voornaamste broeikasgassen in onze atmosfeer uitgedrukt in PPM (Parts Per Million) voor het aandeel aan CO<sub>2</sub> en in PPB (Parts Per Billion) voor methaan en N<sub>2</sub>O. Dit is het 'aantal particles' of- moleculen zeg maar per miljoen (respectievelijk miljard) luchtmoleculen. De data die beschikbaar wordt gesteld komt van enerzijds berekeningen op basis van ijsmonsters geboord in dikke ijslagen van Antarctica en geeft ons gegevens tot zelfs 800 000 v.Chr. Sinds eind jaren '70 is er echter rechtstreeks meetdata beschikbaar vanuit stations in Hawai, Alaska, enz.. \n",
    "Deze data is publiek toegankelijk via Data. World Society [1]\n"
   ]
  },
  {
   "cell_type": "markdown",
   "id": "a0bf8a56-d5cd-4f12-92e7-ae57e8ca7edb",
   "metadata": {},
   "source": [
    "## 3. Onderzoeksvragen"
   ]
  },
  {
   "cell_type": "markdown",
   "id": "d0104363-d3b3-4e3a-b3ff-2680ce3840c5",
   "metadata": {},
   "source": [
    "Volgende onderzoeksvragen stellen zich op:\n",
    "- Wat is de toename in gemiddelde landtemperatuur van de periode 1850 tot 2020?\n",
    "- Wat is de toename in concentratie aan broeikasgassen van 1850 tot 2020?\n",
    "- Is de toename in broeikasgassen eerder in de geschiedenis van de Aarde waargenomen?\n",
    "- Is er een oorzakelijk verband tussen toename in broeikasgassen en toename in temperatuur?\n",
    "\n",
    "Om deze vragen te kunnen beantwoorden gaan we de data analyseren in Python:"
   ]
  },
  {
   "cell_type": "markdown",
   "id": "08742d43-a379-4f3c-b82c-27500a23191b",
   "metadata": {},
   "source": [
    "## 4 Deel 1: analyse van globale landtemperatuur (noordelijk halfrond)"
   ]
  },
  {
   "cell_type": "markdown",
   "id": "6e4d532b-4659-417d-8dab-bf70cc0b536c",
   "metadata": {},
   "source": [
    "- Er zijn al een heel deel functies voor jouw gedefinieerd die terug te vinden zijn in [`hulpfunctiesKlimaatopwarming.py`](./hulpfunctiesKlimaatopwarming.py). Bestudeer die functies vooraleer je verder gaat.\n",
    "- Het dataframe `rawData` hieronder bevat de data die is ingelezen. Als je het onderstaande code block runt, kan je een deel van de inhoud van het dataframe bekijken.\n",
    "\n",
    "*(Klik [hier](./Berkley_earth_GlobalTemperatures.csv) om de hele csv file te bekijken)*"
   ]
  },
  {
   "cell_type": "code",
   "execution_count": null,
   "id": "b4283402-e8e6-4d2f-9ea8-eac3da12dbe3",
   "metadata": {
    "tags": []
   },
   "outputs": [],
   "source": [
    "from hulpfunctiesKlimaatopwarming import *\n",
    "\n",
    "# plt.ioff()\n",
    "\n",
    "rawData = readBerkeleyData()\n",
    "\n",
    "pd.set_option(\"display.max_rows\", 20) \n",
    "\n",
    "rawData"
   ]
  },
  {
   "cell_type": "markdown",
   "id": "756a730d-b22c-46ec-8867-22e587e517a4",
   "metadata": {},
   "source": [
    "### Opdracht 1: \n",
    "<mark>Plot de landtemperatuur i.f.v. het jaar. Wat stel je vast?</mark>"
   ]
  },
  {
   "cell_type": "code",
   "execution_count": null,
   "id": "c9af57e8-6a0d-4bc4-8bd8-437d752c7d89",
   "metadata": {},
   "outputs": [],
   "source": [
    "# TODO 1: plot ruwe data op een nieuwe grafiek\n",
    "\n",
    "\n",
    "\n",
    "\n"
   ]
  },
  {
   "cell_type": "markdown",
   "id": "fb954adb-2fd2-4745-bb56-6e8ea1ac2505",
   "metadata": {},
   "source": [
    "</br>\n",
    "</br>\n",
    "\n",
    "**Het probleem in de grafiek na opdracht 1 is dat je eigenlijk weinig ziet omwille van het seizoenseffect:** al eeuwenlang zijn de winters kouder dan de zomers. Om de trend correct te kunnen waamemen, kan je (naar analogie van de coronacijfers) een zwevend gemiddelde (moving average) gebruiken. \n",
    "\n",
    "Vanuit een datareeks `Xi` (met index i) kan dit zwevend gemiddelde `x filt`, berekend worden als volgt:\n",
    "\n",
    "$$ x_{filt}(i)=\\sum^{i}_{j=(i+1)-n}\\frac{x(j)}{n} $$\n",
    "\n",
    "Deze functie vervangt dus de originele waarde in punt i door de gemiddelde waarde van de n vorige punten (i inclusief). Dit algoritme is geïmplementeerd in de functie `zwevendGemiddelde` (uit [`modeleerFuncties.py`](./modeleerFuncties.py)).\n"
   ]
  },
  {
   "cell_type": "markdown",
   "id": "6424f3d6-3f67-4979-af93-139a23173539",
   "metadata": {},
   "source": [
    "### Opdracht 2: \n",
    "<mark>Pas de functie `zwevendGemiddelde` toe op de temperatuurdata. Kies daarvoor een geschikte waarde voor `n`. Hiermee bereken je de gefilterde temperatuur in de variabele `trendTemp`.</mark>"
   ]
  },
  {
   "cell_type": "code",
   "execution_count": null,
   "id": "355d64bc-6b92-48e6-b776-67d9b4cf7da1",
   "metadata": {},
   "outputs": [],
   "source": [
    "# TODO 2: kies hieronder de juiste periode voor het zwevend gemiddelde zodat je seizoenseffecten wegwerkt\n",
    "#trendTemp = zwevendGemiddelde(. , .)\n",
    "\n",
    "\n",
    "\n",
    "\n"
   ]
  },
  {
   "cell_type": "markdown",
   "id": "7671b25d-8e17-4763-9d86-f7fd406128fd",
   "metadata": {
    "tags": []
   },
   "source": [
    "### Opdracht 3: \n",
    "- <mark>Voeg de gefilterde temperatuur toe aan het dataframe als een extra kolom.</mark>\n",
    "   \n",
    "- <mark>Plot nu de trendlijn die hieruit volgt bovenop de oorspronkelijke grafiek uit opdracht I.</mark>"
   ]
  },
  {
   "cell_type": "code",
   "execution_count": null,
   "id": "3f4cb951-3424-4e0b-ac12-995f3e6691eb",
   "metadata": {},
   "outputs": [],
   "source": [
    "plotDataFrame(rawData, \"Date\", \"LandAverageTemperature °C\", kleur='k' , label=\"True\")\n",
    "\n",
    "# TODO 3: voeg de trendTemp in het rood aan de vorige plot\n",
    "#         Verklaar waarom de rode grafiek in het begin een gekke vorm aanneemt\n",
    "#rawData[\"trendTemp °C\"]=trendTemp\n",
    "\n",
    "\n",
    "\n",
    "\n",
    "\n",
    "\n",
    "\n",
    "plt.show()"
   ]
  },
  {
   "cell_type": "markdown",
   "id": "0a70fac7-3c76-4326-89b2-54f1abdfa505",
   "metadata": {},
   "source": [
    "</br></br>\n",
    "**Stel vast dat de rode lijn in het begin er gek uit ziet. Verklaar waarom en hoe kan je dit oplossen?**"
   ]
  },
  {
   "cell_type": "raw",
   "id": "e55e81ff-a720-4b1b-b8c8-201e2a415945",
   "metadata": {},
   "source": [
    "Waarom ziet de rode lijn er in het begin gek uit?\n",
    "-Antwoord:\n",
    "\n",
    "\n",
    "Hoe kan je dit oplossen?\n",
    "-Antwoord:\n",
    "\n"
   ]
  },
  {
   "cell_type": "markdown",
   "id": "86534766-897b-47a6-bb94-28d176c6108a",
   "metadata": {
    "tags": []
   },
   "source": [
    "### Opdracht 4\n",
    "Nu willen we de gemiddelde toename in landtemperatuur kennen over de periode van 1850 tot 2020. In een klimaatstudie mogen we niet één jaar vergelijken met een ander jaar maar moeten we kijken over meerdere jaren om toevallige variaties in weerpatronen uit te middelen. We kunnen daarom best het gemiddelde nemen over een decennium en dus bv. het decennium 1851-1860 vergelijken met het decennium 2011-2020. Zo middelen we de afwijkingen van één hete zomer of koude winter uit."
   ]
  },
  {
   "cell_type": "markdown",
   "id": "1b7e6b4e-2513-4a7a-939f-1576ff6b8764",
   "metadata": {
    "tags": []
   },
   "source": [
    "#### Opdracht 4a: \n",
    "- <mark>Gebruik de functie `knipDatum` om enerzijds het decennium van 1851-1860 in een nieuw dataframe te plaatsen en anderzijds het decennium van 2011-2020 in een ander nieuw dataframe te plaatsen.</mark>\n"
   ]
  },
  {
   "cell_type": "code",
   "execution_count": null,
   "id": "625fef1a-04d2-4f29-923a-6941d61bd701",
   "metadata": {},
   "outputs": [],
   "source": [
    "# TODO 4a: gebruik de functie knipDatum om enerzijds het decennium van 1851-1860 op te halen\n",
    "#                                      en anderzijds het decennium van 2011-2020\n",
    "#         Bekijk beide dataframes\n",
    "#dec18511860=knipDatum(...)\n",
    "#dec20112020=knipDatum(...)\n",
    "\n",
    "\n",
    "\n"
   ]
  },
  {
   "cell_type": "markdown",
   "id": "ab0b11cf-c06e-41b7-b332-f035adf87998",
   "metadata": {},
   "source": [
    "#### Opdracht 4b: \n",
    "- <mark>We willen de data in deze nieuwe dataframes plotten, maar daarvoor moeten we aan de nieuwe dataframes ook een x-as toevoegen. De x-as is een as met 120 punten (12 maanden per jaar * 10 jaar) die start bij 0 jaar en eindigt bij 10 jaar. Met de gewone knip heb je voor beide decennia immers een verschillende as en dat plot niet mooi. Daarom geven we ze beide dezelfde x-as Voeg deze x-as toe aan het dataframe.\n",
    "</mark>\n"
   ]
  },
  {
   "cell_type": "code",
   "execution_count": null,
   "id": "5f04272e-8e93-4e95-9542-96e23ad1ad01",
   "metadata": {},
   "outputs": [],
   "source": [
    "# TODO 4b: We willen deze geknipte data plotten. Hiervoor hebben we een x-as nodig\n",
    "#         maak (mbv linspace) een x-as met 120 punten van 0 tot 10 jaar\n",
    "#dec18511860[\"jaar\"] = ...\n",
    "#dec20112020[\"jaar\"] = ...\n",
    "\n",
    "\n",
    "\n"
   ]
  },
  {
   "cell_type": "markdown",
   "id": "90f5c55d-5ac9-417e-8f4b-ed1ef51ad564",
   "metadata": {},
   "source": [
    "#### Opdracht 4c: \n",
    "- <mark>plot eerst de `landAverageTemperature` uit de originele dataset voor beide decennia op één figuur. Plot 1851-1860 in het blauw en 2011-2020 in het rood.</mark>\n"
   ]
  },
  {
   "cell_type": "code",
   "execution_count": null,
   "id": "fdae8ef2-ddf1-4668-bdc5-890c1731aaf5",
   "metadata": {},
   "outputs": [],
   "source": [
    "%matplotlib widget\n",
    "# TODO 4c: plot de LandAverageTemperature voor beide decennia op één grafiek\n",
    "#         Kijk na of je een groot verschil ziet\n",
    "#plt.legend([\"Decennium 1851-1860\",\"Decennium 2011-2020\"], loc=\"best\") \n",
    "\n",
    "\n",
    "\n",
    "\n",
    "\n",
    "plt.show()"
   ]
  },
  {
   "cell_type": "markdown",
   "id": "592ded87-2f72-4922-af19-5032a3298cf9",
   "metadata": {},
   "source": [
    "**Op het eerste zicht zie je geen opvallend verschil, maar als je inzoomt, merk je dat rood systematisch boven blauw ligt.**\n",
    "\n",
    "<mark>TODO: Run volgend code block kies het juiste antwoord, run daarna het code block eronder om te zien of je antwoord correct was.</mark>"
   ]
  },
  {
   "cell_type": "code",
   "execution_count": null,
   "id": "93989019-a213-48a2-83e5-86b3bd587dbf",
   "metadata": {},
   "outputs": [],
   "source": [
    "%run ./assets/Klimaatopwarming-extraVb.ipynb\n",
    "opdracht4cVraag"
   ]
  },
  {
   "cell_type": "code",
   "execution_count": null,
   "id": "f7031042-b4c4-450e-88d6-91fb96c549a8",
   "metadata": {},
   "outputs": [],
   "source": [
    "%run ./assets/Klimaatopwarming-extraVbSolutions.ipynb"
   ]
  },
  {
   "cell_type": "markdown",
   "id": "3bd4f240-f36d-4184-a675-d9ac6ad3e8c4",
   "metadata": {},
   "source": [
    "#### Opdracht 4d:\n",
    "<mark>TODO: plot nu het zwevend gemiddelde van de temperatuur uit beide decennia op een andere figuur. Is er een groot verschil met de vorige figuur? </mark>"
   ]
  },
  {
   "cell_type": "code",
   "execution_count": null,
   "id": "42b918dd-1da6-40f0-9a35-4bc64dd23f79",
   "metadata": {},
   "outputs": [],
   "source": [
    "# TODO 4d: plot nu de trendTemp voor beide decennia op één grafiek\n",
    "#         Kijk na of je een groot verschil ziet\n",
    "\n",
    "\n",
    "\n",
    "\n",
    "\n",
    "\n",
    "plt.show()"
   ]
  },
  {
   "cell_type": "markdown",
   "id": "2f338b31-b632-409e-8c92-8f3013a5afbf",
   "metadata": {},
   "source": [
    "#### Opdracht 4e:\n",
    "<mark>Bereken de gemiddelde landtemperatuur in voormoemde decennia en druk deze af in de console (in een geschikt formaat !)</mark>"
   ]
  },
  {
   "cell_type": "code",
   "execution_count": null,
   "id": "591e9b6f-3258-4940-846e-4d86843d0f8c",
   "metadata": {},
   "outputs": [],
   "source": [
    "# TODO 4e: bereken de gemiddelde temperatuur over beide decennia\n",
    "# en plot in een geschikt formaat\n",
    "#averageTemp1855=...\n",
    "#averageTemp2015=...\n",
    "#print(\"Gemiddelde temperatuur in decennium 1851-1860 is \")\n",
    "#print(\"Gemiddelde temperatuur in decennium 2011-2020 is \")\n",
    "\n",
    "\n",
    "\n",
    "\n",
    "\n"
   ]
  },
  {
   "cell_type": "markdown",
   "id": "b85b43e0-f64d-41a1-839b-6225a9a870cd",
   "metadata": {},
   "source": [
    "### Wat is de toename in gemiddelde globale temperatuur van de periode 1850-1860 tot de periode 2011-2020?"
   ]
  },
  {
   "cell_type": "code",
   "execution_count": null,
   "id": "a7aecbce-8e75-43eb-9d42-ed6ef549fe6f",
   "metadata": {},
   "outputs": [],
   "source": [
    "deltaTemp = averageTemp2015 - averageTemp1855\n",
    "print(\"Het gemiddelde temperatuurverschil van 1850-1860 t.o.v. 2011-2020 bedraagt \",round(deltaTemp,2),\" °C.\")\n",
    "\n",
    "# Controle oplossing\n",
    "%run ./assets/Klimaatopwarming-assertOpdracht4.ipynb"
   ]
  },
  {
   "cell_type": "markdown",
   "id": "2314337b-3f23-4541-8ac9-65c71a3910bc",
   "metadata": {
    "tags": []
   },
   "source": [
    "### Nuancering\n",
    "Deze toename is uiteraard op basis van de landtemperatuur, meetdata van temperatuur van de oceanen is hierin niet opgenomen. Daarbij moet je weten dat oceanen typisch een milde invloed hebben op het klimaat gezien de enorme warmtecapaciteit die zij bezitten."
   ]
  },
  {
   "cell_type": "markdown",
   "id": "5b5c3605-1c98-4d7a-aa86-69791a9052dd",
   "metadata": {
    "tags": []
   },
   "source": [
    "## 5 Deel 2: analyse van globale concentratie broeikasgassen ($CO_2$ , methaan en $N_2O$)"
   ]
  },
  {
   "cell_type": "markdown",
   "id": "f9486b96-b2ea-4371-873b-0fbcd6ded30f",
   "metadata": {},
   "source": [
    "- Er zijn al een heel deel functies voor jou gedefinieerd die terug te vinden zijn in [`hulpfunctiesBroeikasgassen.py`](./hulpfunctiesBroeikasgassen.py). Bestudeer die functies vooraleer je verder gaat.\n",
    "- Het dataframe `ghgDataRaw` hieronder bevat de data die is ingelezen. Als je het onderstaande code block runt, kan je een deel van de inhoud van het dataframe bekijken. Er is meetdata van drie broeikasgassen: $CO_2$, methaan en $N_2O$. We starten met de analyse van het $CO_2$-gehalte in de atmosfeer.\n",
    "\n",
    "*(Klik [hier](./ghg_concentrations.csv) om de hele csv file te bekijken)*"
   ]
  },
  {
   "cell_type": "code",
   "execution_count": null,
   "id": "43d97e98-86bd-4dbe-ba1b-918ac809a51e",
   "metadata": {},
   "outputs": [],
   "source": [
    "from hulpfunctiesBroeikasgassen import *\n",
    "\n",
    "ghgDataRaw = readGhgData()\n",
    "ghgDataRaw"
   ]
  },
  {
   "cell_type": "markdown",
   "id": "739fb814-ac2c-4d4f-ab85-3771d2fa777b",
   "metadata": {
    "tags": []
   },
   "source": [
    "### Opdracht 1:\n",
    "<mark>TODO: plot de CO<sub>2</sub> concentratie i.f.v. het jaar en beantwoord de vragen eronder</mark>"
   ]
  },
  {
   "cell_type": "code",
   "execution_count": null,
   "id": "1ba9407b-8989-4f68-a794-267aca9cc460",
   "metadata": {},
   "outputs": [],
   "source": [
    "# TODO 1: plot de CO2 concentratie\n",
    "\n",
    "\n",
    "\n",
    "\n",
    "plt.show()"
   ]
  },
  {
   "cell_type": "raw",
   "id": "a8c92215-9807-45ba-98a8-0f12db2102d5",
   "metadata": {},
   "source": [
    "# TODO: Beantwoord de vragen\n",
    "Wat stel je vast?\n",
    "-Antwoord:\n",
    "\n",
    "Kan je de vreemde figuur verklaren? (tip: kijk naar de inhoud van het hierboven)\n",
    "-Antwoord:\n"
   ]
  },
  {
   "cell_type": "markdown",
   "id": "f2b9ad7b-d959-47c1-be24-c5b775a081fd",
   "metadata": {},
   "source": [
    "### Opdracht 2: \n",
    "<mark>TODO: Om de grafiek mooier te maken, filter op jaren waar er effectief gegevens zijn over CO<sub>2</sub>. Kan je nu meer verklaren? </mark>\n"
   ]
  },
  {
   "cell_type": "code",
   "execution_count": null,
   "id": "cfc3077f-c183-4c45-a235-e348570aac99",
   "metadata": {},
   "outputs": [],
   "source": [
    "# TODO 2: stel vast dat er voor veel jaren geen gegevens zijn\n",
    "#          Verbeter de grafiek door te filteren op rijen met CO2 ppm > 0\n",
    "ghgData = ghgDataRaw[ghgDataRaw[\"CO2 ppm\"]>0]\n",
    "\n",
    "\n",
    "\n",
    "\n",
    "\n",
    "\n",
    "plt.show()"
   ]
  },
  {
   "cell_type": "markdown",
   "id": "a74800c2-7045-4b83-b19b-b66dd082b8f9",
   "metadata": {},
   "source": [
    "### Opdracht 3: \n",
    "Het is beter om de tijdsschaal in een logaritmische schaal te plaatsen. Python laat dit toe via het commando `plt.xscale('symlog')`. \n",
    "\n",
    "<mark>TODO: Pas dit toe in het code block hieronder. Zie je nu meer?</mark>\n",
    "\n",
    "<mark>TODO: In week 1 hebben we `log` i.p.v. `symlog` gebruikt. Probeer beiden uit en ontdek het verschil. Beantwoord dan de vraag onder de plot.</mark>"
   ]
  },
  {
   "cell_type": "code",
   "execution_count": null,
   "id": "3e6b8553-02fe-441c-87d9-d97f0fa58ea2",
   "metadata": {},
   "outputs": [],
   "source": [
    "# TODO 3: plaats de tijdsschaal in een logaritmische schaal\n",
    "#          via de methode xscale('symlog')\n",
    "#          Hiervoor heb je een plt-object nodig en moet je de return-value van plotData gebruiken.\n",
    "\n",
    "\n",
    "\n",
    "\n",
    "\n",
    "\n",
    "\n",
    "plt.show()"
   ]
  },
  {
   "cell_type": "raw",
   "id": "a735ae75-07b9-4632-b365-6016ade039be",
   "metadata": {},
   "source": [
    "# TODO: Beantwoord de vraag\n",
    "Wat is het verschil tussen `symlog` en `log`?\n",
    "-Antwoord:\n",
    "   \n",
    "   "
   ]
  },
  {
   "cell_type": "markdown",
   "id": "159fe608-0008-447c-87e8-a3e78087bad2",
   "metadata": {},
   "source": [
    "<mark>TODO: Run onderstaand code block om snel het verschil in schaal te bekijken </mark>"
   ]
  },
  {
   "cell_type": "code",
   "execution_count": null,
   "id": "a605bb00-c336-4595-88d2-4fbfba3beee3",
   "metadata": {},
   "outputs": [],
   "source": [
    "%run ./assets/Klimaatopwarming-deel2opdracht2.ipynb"
   ]
  },
  {
   "cell_type": "markdown",
   "id": "d75aa862-7b66-4af9-816f-d2f42720c243",
   "metadata": {},
   "source": [
    "### Opdracht 4: \n",
    "In deel 1 hebben we vastgesteld dat de temperatuur in een decennium rond 1850 en een decennium rond 2020 is gestegen. Om na te gaan of er een verband is met de $CO_2$-concentratie in de atmosfeer bepalen we de $CO_2$-concentratie voor de periode van 1850 tot 2020.\n",
    "Vermits de tijdas voor deze dataset uit jaartallen bestaat gebruiken we de functie `knipJaar` om gegevens te selecteren, i.p.v. de functie `knipDatum` uit deel 1.\n",
    "\n",
    "<mark>TODO: Maak een nieuw dataframe `ghgDataSinds1850` dat enkel data van 1850 tot 2020 bevat.</mark>\n"
   ]
  },
  {
   "cell_type": "code",
   "execution_count": null,
   "id": "b4523668-63a1-455e-a310-bd3d8e357975",
   "metadata": {},
   "outputs": [],
   "source": [
    "# TODO 4: zoom in op de periode sinds 1850 door een aangepaste versie\n",
    "#          te maken van de functie knipDatum\n",
    "ghgDataSinds1850 = 1\n",
    "\n",
    "\n",
    "\n"
   ]
  },
  {
   "cell_type": "markdown",
   "id": "2d8ea4d4-e15d-4dc2-b8c7-f7c7151e8d01",
   "metadata": {},
   "source": [
    "### Opdracht 5: \n",
    "<mark>TODO: plot de grafiek voor deze periode en bereken de stijging van de $CO_2$-concentratie voor de periode in percent.</mark>"
   ]
  },
  {
   "cell_type": "code",
   "execution_count": null,
   "id": "dc06a86c-318c-40ae-bc89-c22286dd3304",
   "metadata": {},
   "outputs": [],
   "source": [
    "# TODO 5: plot deze nieuwe data in een nieuw venster en interpreteer de grafiek\n",
    "\n",
    "#          gebruik hiervoor functie getBroeikasgas\n",
    "\n",
    "\n",
    "\n",
    "\n",
    "\n",
    "plt.show()"
   ]
  },
  {
   "cell_type": "markdown",
   "id": "17484191-ffa5-49e3-9144-afb43c4d88e4",
   "metadata": {},
   "source": [
    "<mark>TODO: Gebruik de functie `getBroeikasgas` om data op te vragen uit het dataframe. Print het resultaat in de console in een geschikt formaat. Geef zo antwoord op volgende vragen:</mark>\n",
    "- <mark>Wat is de absolute toename in PPM van CO<sub>2</sub> concentratie van 1850 tot 2020?</mark>\n",
    "- <mark>Wat is de relatieve toename in % van CO<sub>2</sub> concentratie van 1850 tot 2020?</mark>\n",
    "- <mark>Is deze toename in broeikasgassen eerder in de geschiedenis van de Aarde waargenomen?</mark>"
   ]
  },
  {
   "cell_type": "code",
   "execution_count": null,
   "id": "b31ce3ba-4e24-4989-9cbf-86e201b3ceea",
   "metadata": {},
   "outputs": [],
   "source": [
    "# TODO: pas de code aan om de juist eoplossingen te geven en schrijf de gevraagde print statements:\n",
    "ghg_1850 = 2\n",
    "ghg_2020 = 3\n",
    "Delta_ghg = ghg_2020 - ghg_1850\n",
    "Delta_ghg_rel = 4\n",
    "\n",
    "\n"
   ]
  },
  {
   "cell_type": "raw",
   "id": "4cd4a5e9-989a-42d6-bccc-55cd1f2b3a30",
   "metadata": {},
   "source": [
    "Is deze toename in broeikasgassen eerder in de geschiedenis van de Aarde waargenomen?\n",
    "- Antwoord: "
   ]
  },
  {
   "cell_type": "markdown",
   "id": "2661688f-f2ad-4960-8671-ed71f76deb6e",
   "metadata": {},
   "source": [
    "### Extra Oefening. \n",
    "Voer dezelfde analyse uit voor de andere broeikasgassen. \n",
    "\n",
    "Wat weet je over de effectiviteit van methaan als broeikasgas t.o.v. CO<sub>2</sub>.? \n",
    "\n",
    "*Probeer zo weinig mogelijk code aan te passen om de gegevens van de andere broeikasgassen te bepalen. Een goed opgestelde data-analyse is namelijk ook flexibel om efficiënt en snel verschillende data te visualiseren.*\n"
   ]
  },
  {
   "cell_type": "code",
   "execution_count": null,
   "id": "f26a4423-cfa8-4b41-a62a-883cb064a9b8",
   "metadata": {},
   "outputs": [],
   "source": [
    "# PLAATS JE CODE HIERONDER"
   ]
  },
  {
   "cell_type": "markdown",
   "id": "f2835f9f-beba-42d8-828a-12a7711360e2",
   "metadata": {},
   "source": [
    "### Extra oefening, Opdracht 6: \n",
    "veralgemeen deel 2 door hiervan een functie te maken met als parameter het broeikasgas."
   ]
  },
  {
   "cell_type": "code",
   "execution_count": null,
   "id": "c4e63246-d896-4500-9adf-727022e010ab",
   "metadata": {},
   "outputs": [],
   "source": [
    "# TODO 6: steek deel 2 in een functie met als parameter het broeikasgas\n",
    "#          en probeer voor 'CO2 ppm' of 'methane ppb' of 'N2O ppb'\n",
    "#deel2(\"methane ppb\") # denk eraan: voor methaan is er geen data voor 1850, wel voor 1847, dus aanpassen in de jaren waar je voor opzoekt anders foutmelding\n",
    "\n",
    "    \n",
    "    \n",
    "def deel2(broeikasgas):\n",
    "    ghgData = readGhgData()\n",
    "    ghgData = ghgData[ghgData[broeikasgas]>0]\n",
    "    \n",
    "    ### Schrijf je code hieronder ###\n",
    "    \n",
    "    ### Schrijf je code hierboven ###\n",
    "\n",
    "deel2('CO2 ppm')"
   ]
  },
  {
   "cell_type": "markdown",
   "id": "46252e3e-9464-4194-91c3-75efb27aa6d8",
   "metadata": {},
   "source": [
    "<br><br>\n",
    "#### Extra huiswerk:\n",
    "**Hoe verhoudt de toename in gemiddelde globale temperatuur van de periode 1850-1860 tot de periode 2011-2020 zich tot de doelstellingen geformuleerd op de VN\n",
    "klimaatconferentie COP21 van Parijs?**\n",
    "\n",
    "<mark>TODO: Zoek die doelstellingen online op en plak ze hieronder onder antwoord</mark>"
   ]
  },
  {
   "cell_type": "raw",
   "id": "51c296a0-939f-42a7-98dc-804c3ccff80d",
   "metadata": {},
   "source": [
    "# TODO: Plak je antwoord hieronder:\n",
    "- Antwoord: \n"
   ]
  },
  {
   "cell_type": "markdown",
   "id": "ed28e7c6-723e-4ef3-97ef-21969165b448",
   "metadata": {
    "tags": []
   },
   "source": [
    "## Bijlage"
   ]
  },
  {
   "cell_type": "markdown",
   "id": "9bf2692b-a959-4e2d-b2a5-a53f1644e528",
   "metadata": {
    "tags": []
   },
   "source": [
    "### Betrouwbaarheid van de gebruikte gegevens\n",
    "Er zijn datasets van de Universiteit van Berkley (USA) [2] waar onderzoekers uit historische data de gemiddelde globale landtemperatuur hebben berekend. Deze data werd met voldoende zekerheid gegenereerd sinds 1850. Daarnaast stelt het EPA [3] (United States Environmental Protection Agency) een uitgebreide analyse ter beschikking van de indicatoren van de klimaatwijziging. Deze indicatoren zijn o.a. de globale concentratie van broeikasgassen (ghg of green house gasses) en de wijze waarop deze gassen de energiebalans tussen gereflecteerde vs. gevangen energie van de zon beïnvloed. De globale concentratie aan bv. CO<sub>2</sub> kan vandaag de dag gemeten worden aan de hand van monstername in de atmosfeer op diverse plaatsen op de aarde. Maar men heeft ook informatie van de historische CO<sub>2</sub> concentratie op basis van ijsmonsters die zich in de kilometers dikke ijslagen van Antartica bevinden.\n",
    "\n",
    "### Bronnen\n",
    "[1] Data.World Society \"It's Getting Hot In Here: The Burning Effect of Fake News on Climate Change\", Austin Schwinn March 10, 2017\n",
    "\n",
    "[2] Data.World Berkeley Earth Dataset \"Berkeley Earth Global Climate Change Data.\" Data.World. Data Society, 2015. Web. 9 Mar. 2017.\n",
    "\n",
    "[3] EPA Climate Indicators Information \"Climate Change Indicators in the United States.\" EPA. Environmental Protection Agency, 19 Dec. 2016. Web. 9 Mar. 2017."
   ]
  },
  {
   "cell_type": "raw",
   "id": "70596db2-5457-4c96-9019-32afd283bc07",
   "metadata": {},
   "source": []
  },
  {
   "cell_type": "markdown",
   "id": "d30a9cfb-0221-40c0-badc-1483e709c828",
   "metadata": {},
   "source": [
    "### Heb je ergens een fout gemaakt en wil je de file resetten? \n",
    "Run dan het codeblok hieronder, vul in het tekstvak `IKBENZEKER` in en klik dan op ok."
   ]
  },
  {
   "cell_type": "code",
   "execution_count": null,
   "id": "9aa0b23e-f482-4f13-90fc-2bead27a5b9a",
   "metadata": {},
   "outputs": [],
   "source": [
    "%run assets/Klimaatopwarming_reset.ipynb\n",
    "import os\n",
    "\n",
    "display(HBox([resetWidget,resetButton,resetOutput]))\n",
    "resetButton.on_click(resetNotebook)"
   ]
  },
  {
   "cell_type": "raw",
   "id": "75f5dd63-8dbc-4ea5-8f76-851059b53311",
   "metadata": {},
   "source": []
  }
 ],
 "metadata": {
  "kernelspec": {
   "display_name": "Python 3 (ipykernel)",
   "language": "python",
   "name": "python3"
  },
  "language_info": {
   "codemirror_mode": {
    "name": "ipython",
    "version": 3
   },
   "file_extension": ".py",
   "mimetype": "text/x-python",
   "name": "python",
   "nbconvert_exporter": "python",
   "pygments_lexer": "ipython3",
   "version": "3.10.6"
  }
 },
 "nbformat": 4,
 "nbformat_minor": 5
}
