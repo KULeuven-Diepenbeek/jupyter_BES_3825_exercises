{
 "cells": [
  {
   "cell_type": "markdown",
   "id": "a27d90a4-5579-4f8d-9a3b-c3cec3fb6c5a",
   "metadata": {},
   "source": [
    "# Jupyterlab Tips and Tricks\n",
    "##### Alle tips om je in jupyterlab even thuis te voelen als in PyCharm"
   ]
  },
  {
   "cell_type": "markdown",
   "id": "c8964281-7abd-4517-9482-62d051d68c9f",
   "metadata": {},
   "source": [
    "Je kan net als in pycharm shortcuts gebruiken voor dingen zoals 'autocomplete' of 'docstring'.\n",
    "**Voor alle volgende instructies moet je zeker zijn dat de functie die je wil autocompleten of waarvan je de docstring wil bekijken al geimporteerd is en je dat codeblok al eens gerunt hebt**\n",
    "- **Autocomplete**: Start met het schrijven van een functie of variabele en druk op de `Tab`-toets. Een menu verschijnt waar je uit verschillende opties kan kiezen.\n",
    "- **Docstring**: Ga met je cursor op een functie staan en druk op de `Shift+Tab`-toets. Een menu verschijnt met de docstring en zelfs voorbeeldcode die je laat zijn hoe je de functie kan gebruiken\n",
    "- **Dataframe tonen**: Je kan een dataframe simpel weergeven door de naam van je dataframe in een codecell te typen en dat codeblok te runnen. (je kan ook weer met `Shift+Tab` meer uitleg over het dataframe te weten komen)\n"
   ]
  }
 ],
 "metadata": {
  "kernelspec": {
   "display_name": "Python 3 (ipykernel)",
   "language": "python",
   "name": "python3"
  },
  "language_info": {
   "codemirror_mode": {
    "name": "ipython",
    "version": 3
   },
   "file_extension": ".py",
   "mimetype": "text/x-python",
   "name": "python",
   "nbconvert_exporter": "python",
   "pygments_lexer": "ipython3",
   "version": "3.10.6"
  }
 },
 "nbformat": 4,
 "nbformat_minor": 5
}
