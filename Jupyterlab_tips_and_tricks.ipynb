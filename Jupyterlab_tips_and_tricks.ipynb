{
 "cells": [
  {
   "cell_type": "markdown",
   "id": "a27d90a4-5579-4f8d-9a3b-c3cec3fb6c5a",
   "metadata": {},
   "source": [
    "# Jupyterlab Tips and Tricks\n",
    "##### Alle tips om je in jupyterlab even thuis te voelen als in PyCharm"
   ]
  }
 ],
 "metadata": {
  "kernelspec": {
   "display_name": "Python 3 (ipykernel)",
   "language": "python",
   "name": "python3"
  },
  "language_info": {
   "codemirror_mode": {
    "name": "ipython",
    "version": 3
   },
   "file_extension": ".py",
   "mimetype": "text/x-python",
   "name": "python",
   "nbconvert_exporter": "python",
   "pygments_lexer": "ipython3",
   "version": "3.10.6"
  }
 },
 "nbformat": 4,
 "nbformat_minor": 5
}
